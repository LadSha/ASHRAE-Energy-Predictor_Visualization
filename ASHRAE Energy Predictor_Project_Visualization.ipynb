{
  "nbformat": 4,
  "nbformat_minor": 0,
  "metadata": {
    "colab": {
      "name": "Final Project_Visualization",
      "provenance": []
    },
    "kernelspec": {
      "name": "python3",
      "display_name": "Python 3"
    }
  },
  "cells": [
    {
      "cell_type": "code",
      "metadata": {
        "id": "6JFKJdYQSDLT",
        "colab_type": "code",
        "colab": {
          "base_uri": "https://localhost:8080/",
          "height": 204
        },
        "outputId": "dc1d6f7f-eead-4731-de65-26ee46156b38"
      },
      "source": [
        "!pip install kaggle"
      ],
      "execution_count": null,
      "outputs": [
        {
          "output_type": "stream",
          "text": [
            "Requirement already satisfied: kaggle in /usr/local/lib/python3.6/dist-packages (1.5.6)\n",
            "Requirement already satisfied: tqdm in /usr/local/lib/python3.6/dist-packages (from kaggle) (4.41.1)\n",
            "Requirement already satisfied: requests in /usr/local/lib/python3.6/dist-packages (from kaggle) (2.23.0)\n",
            "Requirement already satisfied: urllib3<1.25,>=1.21.1 in /usr/local/lib/python3.6/dist-packages (from kaggle) (1.24.3)\n",
            "Requirement already satisfied: python-dateutil in /usr/local/lib/python3.6/dist-packages (from kaggle) (2.8.1)\n",
            "Requirement already satisfied: six>=1.10 in /usr/local/lib/python3.6/dist-packages (from kaggle) (1.12.0)\n",
            "Requirement already satisfied: python-slugify in /usr/local/lib/python3.6/dist-packages (from kaggle) (4.0.0)\n",
            "Requirement already satisfied: certifi in /usr/local/lib/python3.6/dist-packages (from kaggle) (2020.4.5.1)\n",
            "Requirement already satisfied: idna<3,>=2.5 in /usr/local/lib/python3.6/dist-packages (from requests->kaggle) (2.9)\n",
            "Requirement already satisfied: chardet<4,>=3.0.2 in /usr/local/lib/python3.6/dist-packages (from requests->kaggle) (3.0.4)\n",
            "Requirement already satisfied: text-unidecode>=1.3 in /usr/local/lib/python3.6/dist-packages (from python-slugify->kaggle) (1.3)\n"
          ],
          "name": "stdout"
        }
      ]
    },
    {
      "cell_type": "code",
      "metadata": {
        "id": "cOOaVeKNSbCn",
        "colab_type": "code",
        "colab": {
          "base_uri": "https://localhost:8080/",
          "height": 34
        },
        "outputId": "6e162d5d-9e65-4ede-a25d-5112a4a9bd41"
      },
      "source": [
        "# This authenticates with Kaggle using the api key you put in your google drive\n",
        "from googleapiclient.discovery import build\n",
        "import io, os\n",
        "from googleapiclient.http import MediaIoBaseDownload\n",
        "from google.colab import auth\n",
        "\n",
        "auth.authenticate_user()\n",
        "\n",
        "drive_service = build('drive', 'v3')\n",
        "results = drive_service.files().list(\n",
        "        q=\"name = 'kaggle.json'\", fields=\"files(id)\").execute()\n",
        "kaggle_api_key = results.get('files', [])\n",
        "\n",
        "filename = \"/root/.kaggle/kaggle.json\"\n",
        "os.makedirs(os.path.dirname(filename), exist_ok=True)\n",
        "\n",
        "request = drive_service.files().get_media(fileId=kaggle_api_key[0]['id'])\n",
        "fh = io.FileIO(filename, 'wb')\n",
        "downloader = MediaIoBaseDownload(fh, request)\n",
        "done = False\n",
        "while done is False:\n",
        "    status, done = downloader.next_chunk()\n",
        "    print(\"Download %d%%.\" % int(status.progress() * 100))\n",
        "os.chmod(filename, 600)"
      ],
      "execution_count": null,
      "outputs": [
        {
          "output_type": "stream",
          "text": [
            "Download 100%.\n"
          ],
          "name": "stdout"
        }
      ]
    },
    {
      "cell_type": "code",
      "metadata": {
        "id": "TVXdDq95SvSU",
        "colab_type": "code",
        "colab": {
          "base_uri": "https://localhost:8080/",
          "height": 340
        },
        "outputId": "b3b623a7-c4b8-4aee-e165-563520b4b2b2"
      },
      "source": [
        "!kaggle competitions download --force -c ashrae-energy-prediction"
      ],
      "execution_count": null,
      "outputs": [
        {
          "output_type": "stream",
          "text": [
            "Warning: Looks like you're using an outdated API Version, please consider updating (server 1.5.6 / client 1.5.4)\n",
            "Downloading building_metadata.csv to /content\n",
            "  0% 0.00/44.5k [00:00<?, ?B/s]\n",
            "100% 44.5k/44.5k [00:00<00:00, 17.3MB/s]\n",
            "Downloading weather_test.csv.zip to /content\n",
            "  0% 0.00/2.53M [00:00<?, ?B/s]\n",
            "100% 2.53M/2.53M [00:00<00:00, 83.6MB/s]\n",
            "Downloading sample_submission.csv.zip to /content\n",
            " 95% 84.0M/88.4M [00:00<00:00, 64.2MB/s]\n",
            "100% 88.4M/88.4M [00:00<00:00, 95.9MB/s]\n",
            "Downloading train.csv.zip to /content\n",
            " 97% 116M/120M [00:01<00:00, 74.8MB/s]\n",
            "100% 120M/120M [00:01<00:00, 72.1MB/s]\n",
            "Downloading test.csv.zip to /content\n",
            " 97% 161M/167M [00:01<00:00, 91.6MB/s]\n",
            "100% 167M/167M [00:01<00:00, 100MB/s] \n",
            "Downloading weather_train.csv.zip to /content\n",
            "  0% 0.00/1.27M [00:00<?, ?B/s]\n",
            "100% 1.27M/1.27M [00:00<00:00, 180MB/s]\n"
          ],
          "name": "stdout"
        }
      ]
    },
    {
      "cell_type": "code",
      "metadata": {
        "id": "H9EaFxHEYJGb",
        "colab_type": "code",
        "colab": {
          "base_uri": "https://localhost:8080/",
          "height": 187
        },
        "outputId": "a5252218-f68e-44aa-d37d-c3d80541286f"
      },
      "source": [
        "!unzip /content/weather_test.csv.zip\n",
        "!unzip /content/weather_train.csv.zip\n",
        "!unzip /content/test.csv.zip \n",
        "!unzip /content/train.csv.zip\n",
        "!unzip /content/sample_submission.csv.zip"
      ],
      "execution_count": null,
      "outputs": [
        {
          "output_type": "stream",
          "text": [
            "Archive:  /content/weather_test.csv.zip\n",
            "  inflating: weather_test.csv        \n",
            "Archive:  /content/weather_train.csv.zip\n",
            "  inflating: weather_train.csv       \n",
            "Archive:  /content/test.csv.zip\n",
            "  inflating: test.csv                \n",
            "Archive:  /content/train.csv.zip\n",
            "  inflating: train.csv               \n",
            "Archive:  /content/sample_submission.csv.zip\n",
            "  inflating: sample_submission.csv   \n"
          ],
          "name": "stdout"
        }
      ]
    },
    {
      "cell_type": "markdown",
      "metadata": {
        "id": "CTtDj8OVY86f",
        "colab_type": "text"
      },
      "source": [
        "**Data Exploration**"
      ]
    },
    {
      "cell_type": "code",
      "metadata": {
        "id": "ih4vWVzYYfPn",
        "colab_type": "code",
        "colab": {}
      },
      "source": [
        "import pandas as pd\n",
        "train_df = pd.read_csv('/content/train.csv')\n",
        "test_df = pd.read_csv('/content/test.csv')\n",
        "weather_test_df = pd.read_csv('/content/weather_test.csv')\n",
        "weather_train_df = pd.read_csv('/content/weather_train.csv')\n",
        "build_df = pd.read_csv('/content/building_metadata.csv')\n",
        "sample_df = pd.read_csv('/content/sample_submission.csv')"
      ],
      "execution_count": null,
      "outputs": []
    },
    {
      "cell_type": "code",
      "metadata": {
        "id": "aIAC6Ufgrl7L",
        "colab_type": "code",
        "colab": {}
      },
      "source": [
        "##function to reduce mem s\n",
        "def reduce_mem_usage(df, verbose=True):\n",
        "    numerics = ['int16', 'int32', 'int64', 'float16', 'float32', 'float64']\n",
        "    start_mem = df.memory_usage().sum() / 1024**2    \n",
        "    for col in df.columns:\n",
        "        col_type = df[col].dtypes\n",
        "        if col_type in numerics:\n",
        "            c_min = df[col].min()\n",
        "            c_max = df[col].max()\n",
        "            if str(col_type)[:3] == 'int':\n",
        "                if c_min > np.iinfo(np.int8).min and c_max < np.iinfo(np.int8).max:\n",
        "                    df[col] = df[col].astype(np.int8)\n",
        "                elif c_min > np.iinfo(np.int16).min and c_max < np.iinfo(np.int16).max:\n",
        "                    df[col] = df[col].astype(np.int16)\n",
        "                elif c_min > np.iinfo(np.int32).min and c_max < np.iinfo(np.int32).max:\n",
        "                    df[col] = df[col].astype(np.int32)\n",
        "                elif c_min > np.iinfo(np.int64).min and c_max < np.iinfo(np.int64).max:\n",
        "                    df[col] = df[col].astype(np.int64)  \n",
        "            else:\n",
        "                if c_min > np.finfo(np.float16).min and c_max < np.finfo(np.float16).max:\n",
        "                    df[col] = df[col].astype(np.float16)\n",
        "                elif c_min > np.finfo(np.float32).min and c_max < np.finfo(np.float32).max:\n",
        "                    df[col] = df[col].astype(np.float32)\n",
        "                else:\n",
        "                    df[col] = df[col].astype(np.float64)    \n",
        "    end_mem = df.memory_usage().sum() / 1024**2\n",
        "    if verbose: print('Mem. usage decreased to {:5.2f} Mb ({:.1f}% reduction)'.format(end_mem, 100 * (start_mem - end_mem) / start_mem))\n",
        "    return df"
      ],
      "execution_count": null,
      "outputs": []
    },
    {
      "cell_type": "code",
      "metadata": {
        "id": "lqfEsKQ3BsEJ",
        "colab_type": "code",
        "colab": {
          "base_uri": "https://localhost:8080/",
          "height": 102
        },
        "outputId": "8e09e0db-a0bf-4db8-d135-6c03ff160ebd"
      },
      "source": [
        "##memory use reduction\n",
        "import numpy as np\n",
        "train_df = reduce_mem_usage(train_df)\n",
        "test_df = reduce_mem_usage(test_df)\n",
        "\n",
        "weather_train_df = reduce_mem_usage(weather_train_df)\n",
        "weather_test_df = reduce_mem_usage(weather_test_df)\n",
        "build_df = reduce_mem_usage(build_df)"
      ],
      "execution_count": null,
      "outputs": [
        {
          "output_type": "stream",
          "text": [
            "Mem. usage decreased to 289.19 Mb (53.1% reduction)\n",
            "Mem. usage decreased to 596.49 Mb (53.1% reduction)\n",
            "Mem. usage decreased to  3.07 Mb (68.1% reduction)\n",
            "Mem. usage decreased to  6.08 Mb (68.1% reduction)\n",
            "Mem. usage decreased to  0.03 Mb (60.3% reduction)\n"
          ],
          "name": "stdout"
        }
      ]
    },
    {
      "cell_type": "code",
      "metadata": {
        "id": "qbzRGko0ZCIm",
        "colab_type": "code",
        "colab": {}
      },
      "source": [
        "train_df.head(20)"
      ],
      "execution_count": null,
      "outputs": []
    },
    {
      "cell_type": "code",
      "metadata": {
        "id": "Odi6Z_KSZ4Qn",
        "colab_type": "code",
        "colab": {
          "base_uri": "https://localhost:8080/",
          "height": 359
        },
        "outputId": "a3a680d3-a513-4bbb-af00-9242d12f6772"
      },
      "source": [
        "weather_train_df.head(10)"
      ],
      "execution_count": null,
      "outputs": [
        {
          "output_type": "execute_result",
          "data": {
            "text/html": [
              "<div>\n",
              "<style scoped>\n",
              "    .dataframe tbody tr th:only-of-type {\n",
              "        vertical-align: middle;\n",
              "    }\n",
              "\n",
              "    .dataframe tbody tr th {\n",
              "        vertical-align: top;\n",
              "    }\n",
              "\n",
              "    .dataframe thead th {\n",
              "        text-align: right;\n",
              "    }\n",
              "</style>\n",
              "<table border=\"1\" class=\"dataframe\">\n",
              "  <thead>\n",
              "    <tr style=\"text-align: right;\">\n",
              "      <th></th>\n",
              "      <th>site_id</th>\n",
              "      <th>timestamp</th>\n",
              "      <th>air_temperature</th>\n",
              "      <th>cloud_coverage</th>\n",
              "      <th>dew_temperature</th>\n",
              "      <th>precip_depth_1_hr</th>\n",
              "      <th>sea_level_pressure</th>\n",
              "      <th>wind_direction</th>\n",
              "      <th>wind_speed</th>\n",
              "    </tr>\n",
              "  </thead>\n",
              "  <tbody>\n",
              "    <tr>\n",
              "      <th>0</th>\n",
              "      <td>0</td>\n",
              "      <td>2017-01-01 00:00:00</td>\n",
              "      <td>17.8</td>\n",
              "      <td>4.0</td>\n",
              "      <td>11.7</td>\n",
              "      <td>NaN</td>\n",
              "      <td>1021.4</td>\n",
              "      <td>100.0</td>\n",
              "      <td>3.6</td>\n",
              "    </tr>\n",
              "    <tr>\n",
              "      <th>1</th>\n",
              "      <td>0</td>\n",
              "      <td>2017-01-01 01:00:00</td>\n",
              "      <td>17.8</td>\n",
              "      <td>2.0</td>\n",
              "      <td>12.8</td>\n",
              "      <td>0.0</td>\n",
              "      <td>1022.0</td>\n",
              "      <td>130.0</td>\n",
              "      <td>3.1</td>\n",
              "    </tr>\n",
              "    <tr>\n",
              "      <th>2</th>\n",
              "      <td>0</td>\n",
              "      <td>2017-01-01 02:00:00</td>\n",
              "      <td>16.1</td>\n",
              "      <td>0.0</td>\n",
              "      <td>12.8</td>\n",
              "      <td>0.0</td>\n",
              "      <td>1021.9</td>\n",
              "      <td>140.0</td>\n",
              "      <td>3.1</td>\n",
              "    </tr>\n",
              "    <tr>\n",
              "      <th>3</th>\n",
              "      <td>0</td>\n",
              "      <td>2017-01-01 03:00:00</td>\n",
              "      <td>17.2</td>\n",
              "      <td>0.0</td>\n",
              "      <td>13.3</td>\n",
              "      <td>0.0</td>\n",
              "      <td>1022.2</td>\n",
              "      <td>140.0</td>\n",
              "      <td>3.1</td>\n",
              "    </tr>\n",
              "    <tr>\n",
              "      <th>4</th>\n",
              "      <td>0</td>\n",
              "      <td>2017-01-01 04:00:00</td>\n",
              "      <td>16.7</td>\n",
              "      <td>2.0</td>\n",
              "      <td>13.3</td>\n",
              "      <td>0.0</td>\n",
              "      <td>1022.3</td>\n",
              "      <td>130.0</td>\n",
              "      <td>2.6</td>\n",
              "    </tr>\n",
              "    <tr>\n",
              "      <th>5</th>\n",
              "      <td>0</td>\n",
              "      <td>2017-01-01 05:00:00</td>\n",
              "      <td>15.6</td>\n",
              "      <td>2.0</td>\n",
              "      <td>12.8</td>\n",
              "      <td>0.0</td>\n",
              "      <td>1022.1</td>\n",
              "      <td>130.0</td>\n",
              "      <td>2.1</td>\n",
              "    </tr>\n",
              "    <tr>\n",
              "      <th>6</th>\n",
              "      <td>0</td>\n",
              "      <td>2017-01-01 06:00:00</td>\n",
              "      <td>15.0</td>\n",
              "      <td>0.0</td>\n",
              "      <td>12.8</td>\n",
              "      <td>0.0</td>\n",
              "      <td>1021.7</td>\n",
              "      <td>150.0</td>\n",
              "      <td>1.5</td>\n",
              "    </tr>\n",
              "    <tr>\n",
              "      <th>7</th>\n",
              "      <td>0</td>\n",
              "      <td>2017-01-01 07:00:00</td>\n",
              "      <td>15.0</td>\n",
              "      <td>2.0</td>\n",
              "      <td>13.3</td>\n",
              "      <td>0.0</td>\n",
              "      <td>1021.6</td>\n",
              "      <td>0.0</td>\n",
              "      <td>0.0</td>\n",
              "    </tr>\n",
              "    <tr>\n",
              "      <th>8</th>\n",
              "      <td>0</td>\n",
              "      <td>2017-01-01 08:00:00</td>\n",
              "      <td>13.3</td>\n",
              "      <td>0.0</td>\n",
              "      <td>12.2</td>\n",
              "      <td>0.0</td>\n",
              "      <td>1021.4</td>\n",
              "      <td>0.0</td>\n",
              "      <td>0.0</td>\n",
              "    </tr>\n",
              "    <tr>\n",
              "      <th>9</th>\n",
              "      <td>0</td>\n",
              "      <td>2017-01-01 09:00:00</td>\n",
              "      <td>12.2</td>\n",
              "      <td>4.0</td>\n",
              "      <td>11.7</td>\n",
              "      <td>0.0</td>\n",
              "      <td>1021.4</td>\n",
              "      <td>0.0</td>\n",
              "      <td>0.0</td>\n",
              "    </tr>\n",
              "  </tbody>\n",
              "</table>\n",
              "</div>"
            ],
            "text/plain": [
              "   site_id            timestamp  ...  wind_direction  wind_speed\n",
              "0        0  2017-01-01 00:00:00  ...           100.0         3.6\n",
              "1        0  2017-01-01 01:00:00  ...           130.0         3.1\n",
              "2        0  2017-01-01 02:00:00  ...           140.0         3.1\n",
              "3        0  2017-01-01 03:00:00  ...           140.0         3.1\n",
              "4        0  2017-01-01 04:00:00  ...           130.0         2.6\n",
              "5        0  2017-01-01 05:00:00  ...           130.0         2.1\n",
              "6        0  2017-01-01 06:00:00  ...           150.0         1.5\n",
              "7        0  2017-01-01 07:00:00  ...             0.0         0.0\n",
              "8        0  2017-01-01 08:00:00  ...             0.0         0.0\n",
              "9        0  2017-01-01 09:00:00  ...             0.0         0.0\n",
              "\n",
              "[10 rows x 9 columns]"
            ]
          },
          "metadata": {
            "tags": []
          },
          "execution_count": 8
        }
      ]
    },
    {
      "cell_type": "code",
      "metadata": {
        "id": "9zg7Xxa-aAC0",
        "colab_type": "code",
        "colab": {
          "base_uri": "https://localhost:8080/",
          "height": 297
        },
        "outputId": "a1c60df2-4971-4291-82b0-bfb4b115013d"
      },
      "source": [
        "train_df.describe()\n"
      ],
      "execution_count": null,
      "outputs": [
        {
          "output_type": "execute_result",
          "data": {
            "text/html": [
              "<div>\n",
              "<style scoped>\n",
              "    .dataframe tbody tr th:only-of-type {\n",
              "        vertical-align: middle;\n",
              "    }\n",
              "\n",
              "    .dataframe tbody tr th {\n",
              "        vertical-align: top;\n",
              "    }\n",
              "\n",
              "    .dataframe thead th {\n",
              "        text-align: right;\n",
              "    }\n",
              "</style>\n",
              "<table border=\"1\" class=\"dataframe\">\n",
              "  <thead>\n",
              "    <tr style=\"text-align: right;\">\n",
              "      <th></th>\n",
              "      <th>building_id</th>\n",
              "      <th>meter</th>\n",
              "      <th>meter_reading</th>\n",
              "    </tr>\n",
              "  </thead>\n",
              "  <tbody>\n",
              "    <tr>\n",
              "      <th>count</th>\n",
              "      <td>2.021610e+07</td>\n",
              "      <td>2.021610e+07</td>\n",
              "      <td>2.021610e+07</td>\n",
              "    </tr>\n",
              "    <tr>\n",
              "      <th>mean</th>\n",
              "      <td>7.992780e+02</td>\n",
              "      <td>6.624412e-01</td>\n",
              "      <td>2.117121e+03</td>\n",
              "    </tr>\n",
              "    <tr>\n",
              "      <th>std</th>\n",
              "      <td>4.269133e+02</td>\n",
              "      <td>9.309921e-01</td>\n",
              "      <td>1.532356e+05</td>\n",
              "    </tr>\n",
              "    <tr>\n",
              "      <th>min</th>\n",
              "      <td>0.000000e+00</td>\n",
              "      <td>0.000000e+00</td>\n",
              "      <td>0.000000e+00</td>\n",
              "    </tr>\n",
              "    <tr>\n",
              "      <th>25%</th>\n",
              "      <td>3.930000e+02</td>\n",
              "      <td>0.000000e+00</td>\n",
              "      <td>1.830000e+01</td>\n",
              "    </tr>\n",
              "    <tr>\n",
              "      <th>50%</th>\n",
              "      <td>8.950000e+02</td>\n",
              "      <td>0.000000e+00</td>\n",
              "      <td>7.877500e+01</td>\n",
              "    </tr>\n",
              "    <tr>\n",
              "      <th>75%</th>\n",
              "      <td>1.179000e+03</td>\n",
              "      <td>1.000000e+00</td>\n",
              "      <td>2.679840e+02</td>\n",
              "    </tr>\n",
              "    <tr>\n",
              "      <th>max</th>\n",
              "      <td>1.448000e+03</td>\n",
              "      <td>3.000000e+00</td>\n",
              "      <td>2.190470e+07</td>\n",
              "    </tr>\n",
              "  </tbody>\n",
              "</table>\n",
              "</div>"
            ],
            "text/plain": [
              "        building_id         meter  meter_reading\n",
              "count  2.021610e+07  2.021610e+07   2.021610e+07\n",
              "mean   7.992780e+02  6.624412e-01   2.117121e+03\n",
              "std    4.269133e+02  9.309921e-01   1.532356e+05\n",
              "min    0.000000e+00  0.000000e+00   0.000000e+00\n",
              "25%    3.930000e+02  0.000000e+00   1.830000e+01\n",
              "50%    8.950000e+02  0.000000e+00   7.877500e+01\n",
              "75%    1.179000e+03  1.000000e+00   2.679840e+02\n",
              "max    1.448000e+03  3.000000e+00   2.190470e+07"
            ]
          },
          "metadata": {
            "tags": []
          },
          "execution_count": 10
        }
      ]
    },
    {
      "cell_type": "code",
      "metadata": {
        "id": "qMQvNOaZaVEU",
        "colab_type": "code",
        "colab": {
          "base_uri": "https://localhost:8080/",
          "height": 297
        },
        "outputId": "09ace6e0-4a15-4463-eb98-be81576815d9"
      },
      "source": [
        "test_df.describe()\n"
      ],
      "execution_count": null,
      "outputs": [
        {
          "output_type": "execute_result",
          "data": {
            "text/html": [
              "<div>\n",
              "<style scoped>\n",
              "    .dataframe tbody tr th:only-of-type {\n",
              "        vertical-align: middle;\n",
              "    }\n",
              "\n",
              "    .dataframe tbody tr th {\n",
              "        vertical-align: top;\n",
              "    }\n",
              "\n",
              "    .dataframe thead th {\n",
              "        text-align: right;\n",
              "    }\n",
              "</style>\n",
              "<table border=\"1\" class=\"dataframe\">\n",
              "  <thead>\n",
              "    <tr style=\"text-align: right;\">\n",
              "      <th></th>\n",
              "      <th>row_id</th>\n",
              "      <th>building_id</th>\n",
              "      <th>meter</th>\n",
              "    </tr>\n",
              "  </thead>\n",
              "  <tbody>\n",
              "    <tr>\n",
              "      <th>count</th>\n",
              "      <td>4.169760e+07</td>\n",
              "      <td>4.169760e+07</td>\n",
              "      <td>4.169760e+07</td>\n",
              "    </tr>\n",
              "    <tr>\n",
              "      <th>mean</th>\n",
              "      <td>2.084880e+07</td>\n",
              "      <td>8.075824e+02</td>\n",
              "      <td>6.642857e-01</td>\n",
              "    </tr>\n",
              "    <tr>\n",
              "      <th>std</th>\n",
              "      <td>1.203706e+07</td>\n",
              "      <td>4.297680e+02</td>\n",
              "      <td>9.278067e-01</td>\n",
              "    </tr>\n",
              "    <tr>\n",
              "      <th>min</th>\n",
              "      <td>0.000000e+00</td>\n",
              "      <td>0.000000e+00</td>\n",
              "      <td>0.000000e+00</td>\n",
              "    </tr>\n",
              "    <tr>\n",
              "      <th>25%</th>\n",
              "      <td>1.042440e+07</td>\n",
              "      <td>4.047500e+02</td>\n",
              "      <td>0.000000e+00</td>\n",
              "    </tr>\n",
              "    <tr>\n",
              "      <th>50%</th>\n",
              "      <td>2.084880e+07</td>\n",
              "      <td>9.000000e+02</td>\n",
              "      <td>0.000000e+00</td>\n",
              "    </tr>\n",
              "    <tr>\n",
              "      <th>75%</th>\n",
              "      <td>3.127320e+07</td>\n",
              "      <td>1.194250e+03</td>\n",
              "      <td>1.000000e+00</td>\n",
              "    </tr>\n",
              "    <tr>\n",
              "      <th>max</th>\n",
              "      <td>4.169760e+07</td>\n",
              "      <td>1.448000e+03</td>\n",
              "      <td>3.000000e+00</td>\n",
              "    </tr>\n",
              "  </tbody>\n",
              "</table>\n",
              "</div>"
            ],
            "text/plain": [
              "             row_id   building_id         meter\n",
              "count  4.169760e+07  4.169760e+07  4.169760e+07\n",
              "mean   2.084880e+07  8.075824e+02  6.642857e-01\n",
              "std    1.203706e+07  4.297680e+02  9.278067e-01\n",
              "min    0.000000e+00  0.000000e+00  0.000000e+00\n",
              "25%    1.042440e+07  4.047500e+02  0.000000e+00\n",
              "50%    2.084880e+07  9.000000e+02  0.000000e+00\n",
              "75%    3.127320e+07  1.194250e+03  1.000000e+00\n",
              "max    4.169760e+07  1.448000e+03  3.000000e+00"
            ]
          },
          "metadata": {
            "tags": []
          },
          "execution_count": 11
        }
      ]
    },
    {
      "cell_type": "code",
      "metadata": {
        "id": "pZcSuP7caXkr",
        "colab_type": "code",
        "colab": {
          "base_uri": "https://localhost:8080/",
          "height": 297
        },
        "outputId": "c9889011-0c37-4046-85af-c4f034432ac2"
      },
      "source": [
        "weather_train_df.describe()\n"
      ],
      "execution_count": null,
      "outputs": [
        {
          "output_type": "execute_result",
          "data": {
            "text/html": [
              "<div>\n",
              "<style scoped>\n",
              "    .dataframe tbody tr th:only-of-type {\n",
              "        vertical-align: middle;\n",
              "    }\n",
              "\n",
              "    .dataframe tbody tr th {\n",
              "        vertical-align: top;\n",
              "    }\n",
              "\n",
              "    .dataframe thead th {\n",
              "        text-align: right;\n",
              "    }\n",
              "</style>\n",
              "<table border=\"1\" class=\"dataframe\">\n",
              "  <thead>\n",
              "    <tr style=\"text-align: right;\">\n",
              "      <th></th>\n",
              "      <th>site_id</th>\n",
              "      <th>air_temperature</th>\n",
              "      <th>cloud_coverage</th>\n",
              "      <th>dew_temperature</th>\n",
              "      <th>precip_depth_1_hr</th>\n",
              "      <th>sea_level_pressure</th>\n",
              "      <th>wind_direction</th>\n",
              "      <th>wind_speed</th>\n",
              "    </tr>\n",
              "  </thead>\n",
              "  <tbody>\n",
              "    <tr>\n",
              "      <th>count</th>\n",
              "      <td>139773.000000</td>\n",
              "      <td>139718.000000</td>\n",
              "      <td>70600.000000</td>\n",
              "      <td>139660.000000</td>\n",
              "      <td>89484.000000</td>\n",
              "      <td>129155.000000</td>\n",
              "      <td>133505.000000</td>\n",
              "      <td>139469.000000</td>\n",
              "    </tr>\n",
              "    <tr>\n",
              "      <th>mean</th>\n",
              "      <td>7.478977</td>\n",
              "      <td>14.418106</td>\n",
              "      <td>2.149306</td>\n",
              "      <td>7.350158</td>\n",
              "      <td>0.983047</td>\n",
              "      <td>1016.158038</td>\n",
              "      <td>180.526632</td>\n",
              "      <td>3.560527</td>\n",
              "    </tr>\n",
              "    <tr>\n",
              "      <th>std</th>\n",
              "      <td>4.604744</td>\n",
              "      <td>10.626595</td>\n",
              "      <td>2.599150</td>\n",
              "      <td>9.790235</td>\n",
              "      <td>8.463678</td>\n",
              "      <td>7.629684</td>\n",
              "      <td>111.523629</td>\n",
              "      <td>2.335874</td>\n",
              "    </tr>\n",
              "    <tr>\n",
              "      <th>min</th>\n",
              "      <td>0.000000</td>\n",
              "      <td>-28.900000</td>\n",
              "      <td>0.000000</td>\n",
              "      <td>-35.000000</td>\n",
              "      <td>-1.000000</td>\n",
              "      <td>968.200000</td>\n",
              "      <td>0.000000</td>\n",
              "      <td>0.000000</td>\n",
              "    </tr>\n",
              "    <tr>\n",
              "      <th>25%</th>\n",
              "      <td>3.000000</td>\n",
              "      <td>7.200000</td>\n",
              "      <td>0.000000</td>\n",
              "      <td>0.600000</td>\n",
              "      <td>0.000000</td>\n",
              "      <td>1011.800000</td>\n",
              "      <td>80.000000</td>\n",
              "      <td>2.100000</td>\n",
              "    </tr>\n",
              "    <tr>\n",
              "      <th>50%</th>\n",
              "      <td>7.000000</td>\n",
              "      <td>15.000000</td>\n",
              "      <td>2.000000</td>\n",
              "      <td>8.300000</td>\n",
              "      <td>0.000000</td>\n",
              "      <td>1016.400000</td>\n",
              "      <td>190.000000</td>\n",
              "      <td>3.100000</td>\n",
              "    </tr>\n",
              "    <tr>\n",
              "      <th>75%</th>\n",
              "      <td>11.000000</td>\n",
              "      <td>22.200000</td>\n",
              "      <td>4.000000</td>\n",
              "      <td>14.400000</td>\n",
              "      <td>0.000000</td>\n",
              "      <td>1020.800000</td>\n",
              "      <td>280.000000</td>\n",
              "      <td>5.000000</td>\n",
              "    </tr>\n",
              "    <tr>\n",
              "      <th>max</th>\n",
              "      <td>15.000000</td>\n",
              "      <td>47.200000</td>\n",
              "      <td>9.000000</td>\n",
              "      <td>26.100000</td>\n",
              "      <td>343.000000</td>\n",
              "      <td>1045.500000</td>\n",
              "      <td>360.000000</td>\n",
              "      <td>19.000000</td>\n",
              "    </tr>\n",
              "  </tbody>\n",
              "</table>\n",
              "</div>"
            ],
            "text/plain": [
              "             site_id  air_temperature  ...  wind_direction     wind_speed\n",
              "count  139773.000000    139718.000000  ...   133505.000000  139469.000000\n",
              "mean        7.478977        14.418106  ...      180.526632       3.560527\n",
              "std         4.604744        10.626595  ...      111.523629       2.335874\n",
              "min         0.000000       -28.900000  ...        0.000000       0.000000\n",
              "25%         3.000000         7.200000  ...       80.000000       2.100000\n",
              "50%         7.000000        15.000000  ...      190.000000       3.100000\n",
              "75%        11.000000        22.200000  ...      280.000000       5.000000\n",
              "max        15.000000        47.200000  ...      360.000000      19.000000\n",
              "\n",
              "[8 rows x 8 columns]"
            ]
          },
          "metadata": {
            "tags": []
          },
          "execution_count": 17
        }
      ]
    },
    {
      "cell_type": "code",
      "metadata": {
        "id": "XGSs_jgUaZUU",
        "colab_type": "code",
        "colab": {
          "base_uri": "https://localhost:8080/",
          "height": 297
        },
        "outputId": "7ef3e54b-673b-4768-8167-53b094e898d5"
      },
      "source": [
        "weather_test_df.describe()\n"
      ],
      "execution_count": null,
      "outputs": [
        {
          "output_type": "execute_result",
          "data": {
            "text/html": [
              "<div>\n",
              "<style scoped>\n",
              "    .dataframe tbody tr th:only-of-type {\n",
              "        vertical-align: middle;\n",
              "    }\n",
              "\n",
              "    .dataframe tbody tr th {\n",
              "        vertical-align: top;\n",
              "    }\n",
              "\n",
              "    .dataframe thead th {\n",
              "        text-align: right;\n",
              "    }\n",
              "</style>\n",
              "<table border=\"1\" class=\"dataframe\">\n",
              "  <thead>\n",
              "    <tr style=\"text-align: right;\">\n",
              "      <th></th>\n",
              "      <th>site_id</th>\n",
              "      <th>air_temperature</th>\n",
              "      <th>cloud_coverage</th>\n",
              "      <th>dew_temperature</th>\n",
              "      <th>precip_depth_1_hr</th>\n",
              "      <th>sea_level_pressure</th>\n",
              "      <th>wind_direction</th>\n",
              "      <th>wind_speed</th>\n",
              "    </tr>\n",
              "  </thead>\n",
              "  <tbody>\n",
              "    <tr>\n",
              "      <th>count</th>\n",
              "      <td>277243.000000</td>\n",
              "      <td>277139.000000</td>\n",
              "      <td>136795.000000</td>\n",
              "      <td>276916.000000</td>\n",
              "      <td>181655.000000</td>\n",
              "      <td>255978.000000</td>\n",
              "      <td>264873.000000</td>\n",
              "      <td>276783.000000</td>\n",
              "    </tr>\n",
              "    <tr>\n",
              "      <th>mean</th>\n",
              "      <td>7.484654</td>\n",
              "      <td>14.276863</td>\n",
              "      <td>2.187317</td>\n",
              "      <td>7.487658</td>\n",
              "      <td>1.095395</td>\n",
              "      <td>1016.195762</td>\n",
              "      <td>180.426023</td>\n",
              "      <td>3.548873</td>\n",
              "    </tr>\n",
              "    <tr>\n",
              "      <th>std</th>\n",
              "      <td>4.616959</td>\n",
              "      <td>10.741605</td>\n",
              "      <td>2.620627</td>\n",
              "      <td>10.153973</td>\n",
              "      <td>9.163511</td>\n",
              "      <td>7.940392</td>\n",
              "      <td>110.456872</td>\n",
              "      <td>2.317184</td>\n",
              "    </tr>\n",
              "    <tr>\n",
              "      <th>min</th>\n",
              "      <td>0.000000</td>\n",
              "      <td>-28.100000</td>\n",
              "      <td>0.000000</td>\n",
              "      <td>-31.600000</td>\n",
              "      <td>-1.000000</td>\n",
              "      <td>972.000000</td>\n",
              "      <td>0.000000</td>\n",
              "      <td>0.000000</td>\n",
              "    </tr>\n",
              "    <tr>\n",
              "      <th>25%</th>\n",
              "      <td>3.000000</td>\n",
              "      <td>7.200000</td>\n",
              "      <td>0.000000</td>\n",
              "      <td>0.600000</td>\n",
              "      <td>0.000000</td>\n",
              "      <td>1011.600000</td>\n",
              "      <td>80.000000</td>\n",
              "      <td>2.100000</td>\n",
              "    </tr>\n",
              "    <tr>\n",
              "      <th>50%</th>\n",
              "      <td>7.000000</td>\n",
              "      <td>15.000000</td>\n",
              "      <td>2.000000</td>\n",
              "      <td>8.400000</td>\n",
              "      <td>0.000000</td>\n",
              "      <td>1016.300000</td>\n",
              "      <td>190.000000</td>\n",
              "      <td>3.100000</td>\n",
              "    </tr>\n",
              "    <tr>\n",
              "      <th>75%</th>\n",
              "      <td>12.000000</td>\n",
              "      <td>22.200000</td>\n",
              "      <td>4.000000</td>\n",
              "      <td>15.000000</td>\n",
              "      <td>0.000000</td>\n",
              "      <td>1020.800000</td>\n",
              "      <td>280.000000</td>\n",
              "      <td>4.600000</td>\n",
              "    </tr>\n",
              "    <tr>\n",
              "      <th>max</th>\n",
              "      <td>15.000000</td>\n",
              "      <td>48.300000</td>\n",
              "      <td>9.000000</td>\n",
              "      <td>26.700000</td>\n",
              "      <td>597.000000</td>\n",
              "      <td>1050.100000</td>\n",
              "      <td>360.000000</td>\n",
              "      <td>24.200000</td>\n",
              "    </tr>\n",
              "  </tbody>\n",
              "</table>\n",
              "</div>"
            ],
            "text/plain": [
              "             site_id  air_temperature  ...  wind_direction     wind_speed\n",
              "count  277243.000000    277139.000000  ...   264873.000000  276783.000000\n",
              "mean        7.484654        14.276863  ...      180.426023       3.548873\n",
              "std         4.616959        10.741605  ...      110.456872       2.317184\n",
              "min         0.000000       -28.100000  ...        0.000000       0.000000\n",
              "25%         3.000000         7.200000  ...       80.000000       2.100000\n",
              "50%         7.000000        15.000000  ...      190.000000       3.100000\n",
              "75%        12.000000        22.200000  ...      280.000000       4.600000\n",
              "max        15.000000        48.300000  ...      360.000000      24.200000\n",
              "\n",
              "[8 rows x 8 columns]"
            ]
          },
          "metadata": {
            "tags": []
          },
          "execution_count": 13
        }
      ]
    },
    {
      "cell_type": "code",
      "metadata": {
        "id": "4lL_L8yUabDr",
        "colab_type": "code",
        "colab": {
          "base_uri": "https://localhost:8080/",
          "height": 297
        },
        "outputId": "0dfa4b17-2ac7-450e-8dd7-6228d6281200"
      },
      "source": [
        "building_df.describe()\n"
      ],
      "execution_count": null,
      "outputs": [
        {
          "output_type": "execute_result",
          "data": {
            "text/html": [
              "<div>\n",
              "<style scoped>\n",
              "    .dataframe tbody tr th:only-of-type {\n",
              "        vertical-align: middle;\n",
              "    }\n",
              "\n",
              "    .dataframe tbody tr th {\n",
              "        vertical-align: top;\n",
              "    }\n",
              "\n",
              "    .dataframe thead th {\n",
              "        text-align: right;\n",
              "    }\n",
              "</style>\n",
              "<table border=\"1\" class=\"dataframe\">\n",
              "  <thead>\n",
              "    <tr style=\"text-align: right;\">\n",
              "      <th></th>\n",
              "      <th>site_id</th>\n",
              "      <th>building_id</th>\n",
              "      <th>square_feet</th>\n",
              "      <th>year_built</th>\n",
              "      <th>floor_count</th>\n",
              "    </tr>\n",
              "  </thead>\n",
              "  <tbody>\n",
              "    <tr>\n",
              "      <th>count</th>\n",
              "      <td>1449.000000</td>\n",
              "      <td>1449.000000</td>\n",
              "      <td>1449.000000</td>\n",
              "      <td>675.000000</td>\n",
              "      <td>355.000000</td>\n",
              "    </tr>\n",
              "    <tr>\n",
              "      <th>mean</th>\n",
              "      <td>6.952381</td>\n",
              "      <td>724.000000</td>\n",
              "      <td>92111.776398</td>\n",
              "      <td>1967.957037</td>\n",
              "      <td>3.740845</td>\n",
              "    </tr>\n",
              "    <tr>\n",
              "      <th>std</th>\n",
              "      <td>5.003432</td>\n",
              "      <td>418.434583</td>\n",
              "      <td>110769.950997</td>\n",
              "      <td>31.054030</td>\n",
              "      <td>3.333683</td>\n",
              "    </tr>\n",
              "    <tr>\n",
              "      <th>min</th>\n",
              "      <td>0.000000</td>\n",
              "      <td>0.000000</td>\n",
              "      <td>283.000000</td>\n",
              "      <td>1900.000000</td>\n",
              "      <td>1.000000</td>\n",
              "    </tr>\n",
              "    <tr>\n",
              "      <th>25%</th>\n",
              "      <td>3.000000</td>\n",
              "      <td>362.000000</td>\n",
              "      <td>23012.000000</td>\n",
              "      <td>1949.000000</td>\n",
              "      <td>1.000000</td>\n",
              "    </tr>\n",
              "    <tr>\n",
              "      <th>50%</th>\n",
              "      <td>5.000000</td>\n",
              "      <td>724.000000</td>\n",
              "      <td>57673.000000</td>\n",
              "      <td>1970.000000</td>\n",
              "      <td>3.000000</td>\n",
              "    </tr>\n",
              "    <tr>\n",
              "      <th>75%</th>\n",
              "      <td>13.000000</td>\n",
              "      <td>1086.000000</td>\n",
              "      <td>115676.000000</td>\n",
              "      <td>1995.000000</td>\n",
              "      <td>5.000000</td>\n",
              "    </tr>\n",
              "    <tr>\n",
              "      <th>max</th>\n",
              "      <td>15.000000</td>\n",
              "      <td>1448.000000</td>\n",
              "      <td>875000.000000</td>\n",
              "      <td>2017.000000</td>\n",
              "      <td>26.000000</td>\n",
              "    </tr>\n",
              "  </tbody>\n",
              "</table>\n",
              "</div>"
            ],
            "text/plain": [
              "           site_id  building_id    square_feet   year_built  floor_count\n",
              "count  1449.000000  1449.000000    1449.000000   675.000000   355.000000\n",
              "mean      6.952381   724.000000   92111.776398  1967.957037     3.740845\n",
              "std       5.003432   418.434583  110769.950997    31.054030     3.333683\n",
              "min       0.000000     0.000000     283.000000  1900.000000     1.000000\n",
              "25%       3.000000   362.000000   23012.000000  1949.000000     1.000000\n",
              "50%       5.000000   724.000000   57673.000000  1970.000000     3.000000\n",
              "75%      13.000000  1086.000000  115676.000000  1995.000000     5.000000\n",
              "max      15.000000  1448.000000  875000.000000  2017.000000    26.000000"
            ]
          },
          "metadata": {
            "tags": []
          },
          "execution_count": 14
        }
      ]
    },
    {
      "cell_type": "code",
      "metadata": {
        "id": "VSMiz7ZVacbL",
        "colab_type": "code",
        "colab": {
          "base_uri": "https://localhost:8080/",
          "height": 204
        },
        "outputId": "46fbdeab-cb2f-4bb0-9436-fdaab6fd871a"
      },
      "source": [
        "building_df.head()"
      ],
      "execution_count": null,
      "outputs": [
        {
          "output_type": "execute_result",
          "data": {
            "text/html": [
              "<div>\n",
              "<style scoped>\n",
              "    .dataframe tbody tr th:only-of-type {\n",
              "        vertical-align: middle;\n",
              "    }\n",
              "\n",
              "    .dataframe tbody tr th {\n",
              "        vertical-align: top;\n",
              "    }\n",
              "\n",
              "    .dataframe thead th {\n",
              "        text-align: right;\n",
              "    }\n",
              "</style>\n",
              "<table border=\"1\" class=\"dataframe\">\n",
              "  <thead>\n",
              "    <tr style=\"text-align: right;\">\n",
              "      <th></th>\n",
              "      <th>site_id</th>\n",
              "      <th>building_id</th>\n",
              "      <th>primary_use</th>\n",
              "      <th>square_feet</th>\n",
              "      <th>year_built</th>\n",
              "      <th>floor_count</th>\n",
              "    </tr>\n",
              "  </thead>\n",
              "  <tbody>\n",
              "    <tr>\n",
              "      <th>0</th>\n",
              "      <td>0</td>\n",
              "      <td>0</td>\n",
              "      <td>Education</td>\n",
              "      <td>7432</td>\n",
              "      <td>2008.0</td>\n",
              "      <td>NaN</td>\n",
              "    </tr>\n",
              "    <tr>\n",
              "      <th>1</th>\n",
              "      <td>0</td>\n",
              "      <td>1</td>\n",
              "      <td>Education</td>\n",
              "      <td>2720</td>\n",
              "      <td>2004.0</td>\n",
              "      <td>NaN</td>\n",
              "    </tr>\n",
              "    <tr>\n",
              "      <th>2</th>\n",
              "      <td>0</td>\n",
              "      <td>2</td>\n",
              "      <td>Education</td>\n",
              "      <td>5376</td>\n",
              "      <td>1991.0</td>\n",
              "      <td>NaN</td>\n",
              "    </tr>\n",
              "    <tr>\n",
              "      <th>3</th>\n",
              "      <td>0</td>\n",
              "      <td>3</td>\n",
              "      <td>Education</td>\n",
              "      <td>23685</td>\n",
              "      <td>2002.0</td>\n",
              "      <td>NaN</td>\n",
              "    </tr>\n",
              "    <tr>\n",
              "      <th>4</th>\n",
              "      <td>0</td>\n",
              "      <td>4</td>\n",
              "      <td>Education</td>\n",
              "      <td>116607</td>\n",
              "      <td>1975.0</td>\n",
              "      <td>NaN</td>\n",
              "    </tr>\n",
              "  </tbody>\n",
              "</table>\n",
              "</div>"
            ],
            "text/plain": [
              "   site_id  building_id primary_use  square_feet  year_built  floor_count\n",
              "0        0            0   Education         7432      2008.0          NaN\n",
              "1        0            1   Education         2720      2004.0          NaN\n",
              "2        0            2   Education         5376      1991.0          NaN\n",
              "3        0            3   Education        23685      2002.0          NaN\n",
              "4        0            4   Education       116607      1975.0          NaN"
            ]
          },
          "metadata": {
            "tags": []
          },
          "execution_count": 18
        }
      ]
    },
    {
      "cell_type": "markdown",
      "metadata": {
        "id": "aw1knF_Bbvui",
        "colab_type": "text"
      },
      "source": [
        "**Data Processing**"
      ]
    },
    {
      "cell_type": "code",
      "metadata": {
        "id": "TdhROIhBbvDT",
        "colab_type": "code",
        "colab": {
          "base_uri": "https://localhost:8080/",
          "height": 102
        },
        "outputId": "e5ec95b3-e9b1-4f17-947e-9f95eeb8215c"
      },
      "source": [
        "build_df = building_df\n",
        "build_df.primary_use.unique()"
      ],
      "execution_count": null,
      "outputs": [
        {
          "output_type": "execute_result",
          "data": {
            "text/plain": [
              "array(['Education', 'Lodging/residential', 'Office',\n",
              "       'Entertainment/public assembly', 'Other', 'Retail', 'Parking',\n",
              "       'Public services', 'Warehouse/storage', 'Food sales and service',\n",
              "       'Religious worship', 'Healthcare', 'Utility', 'Technology/science',\n",
              "       'Manufacturing/industrial', 'Services'], dtype=object)"
            ]
          },
          "metadata": {
            "tags": []
          },
          "execution_count": 5
        }
      ]
    },
    {
      "cell_type": "markdown",
      "metadata": {
        "id": "ZB_G2W8Wud9p",
        "colab_type": "text"
      },
      "source": [
        "**Codes for Combined Data**"
      ]
    },
    {
      "cell_type": "code",
      "metadata": {
        "id": "q3H8cgFRfhe_",
        "colab_type": "code",
        "colab": {
          "base_uri": "https://localhost:8080/",
          "height": 394
        },
        "outputId": "add5e1ec-f348-43b0-de91-b9ccc4c40fff"
      },
      "source": [
        "#feature engineering before join\n",
        "\n",
        "from datetime import datetime\n",
        "weather_train_df['timestamp2'] = weather_train_df['timestamp'].astype('datetime64[ns]')\n",
        "\n",
        "#Create the moving average of last few hours\n",
        "weather_train_df.sort_values(by=['site_id', 'timestamp2'])\n",
        "weather_train_df['avg_air_temp_last_5hr'] = weather_train_df.groupby('site_id')['air_temperature'].transform(lambda x: x.rolling(5, 1).mean())\n",
        "weather_train_df.head()"
      ],
      "execution_count": null,
      "outputs": [
        {
          "output_type": "execute_result",
          "data": {
            "text/html": [
              "<div>\n",
              "<style scoped>\n",
              "    .dataframe tbody tr th:only-of-type {\n",
              "        vertical-align: middle;\n",
              "    }\n",
              "\n",
              "    .dataframe tbody tr th {\n",
              "        vertical-align: top;\n",
              "    }\n",
              "\n",
              "    .dataframe thead th {\n",
              "        text-align: right;\n",
              "    }\n",
              "</style>\n",
              "<table border=\"1\" class=\"dataframe\">\n",
              "  <thead>\n",
              "    <tr style=\"text-align: right;\">\n",
              "      <th></th>\n",
              "      <th>site_id</th>\n",
              "      <th>timestamp</th>\n",
              "      <th>air_temperature</th>\n",
              "      <th>cloud_coverage</th>\n",
              "      <th>dew_temperature</th>\n",
              "      <th>precip_depth_1_hr</th>\n",
              "      <th>sea_level_pressure</th>\n",
              "      <th>wind_direction</th>\n",
              "      <th>wind_speed</th>\n",
              "      <th>timestamp2</th>\n",
              "      <th>avg_air_temp_last_5hr</th>\n",
              "      <th>date</th>\n",
              "      <th>avg_air_temperature_per_day</th>\n",
              "      <th>max</th>\n",
              "      <th>min</th>\n",
              "      <th>diff_air_temperature_per_day</th>\n",
              "    </tr>\n",
              "  </thead>\n",
              "  <tbody>\n",
              "    <tr>\n",
              "      <th>0</th>\n",
              "      <td>0</td>\n",
              "      <td>2016-01-01 00:00:00</td>\n",
              "      <td>25.0</td>\n",
              "      <td>6.0</td>\n",
              "      <td>20.0</td>\n",
              "      <td>NaN</td>\n",
              "      <td>1019.7</td>\n",
              "      <td>0.0</td>\n",
              "      <td>0.0</td>\n",
              "      <td>2016-01-01 00:00:00</td>\n",
              "      <td>25.000000</td>\n",
              "      <td>2016-01-01</td>\n",
              "      <td>23.3375</td>\n",
              "      <td>28.3</td>\n",
              "      <td>18.9</td>\n",
              "      <td>9.4</td>\n",
              "    </tr>\n",
              "    <tr>\n",
              "      <th>1</th>\n",
              "      <td>0</td>\n",
              "      <td>2016-01-01 01:00:00</td>\n",
              "      <td>24.4</td>\n",
              "      <td>NaN</td>\n",
              "      <td>21.1</td>\n",
              "      <td>-1.0</td>\n",
              "      <td>1020.2</td>\n",
              "      <td>70.0</td>\n",
              "      <td>1.5</td>\n",
              "      <td>2016-01-01 01:00:00</td>\n",
              "      <td>24.700000</td>\n",
              "      <td>2016-01-01</td>\n",
              "      <td>23.3375</td>\n",
              "      <td>28.3</td>\n",
              "      <td>18.9</td>\n",
              "      <td>9.4</td>\n",
              "    </tr>\n",
              "    <tr>\n",
              "      <th>2</th>\n",
              "      <td>0</td>\n",
              "      <td>2016-01-01 02:00:00</td>\n",
              "      <td>22.8</td>\n",
              "      <td>2.0</td>\n",
              "      <td>21.1</td>\n",
              "      <td>0.0</td>\n",
              "      <td>1020.2</td>\n",
              "      <td>0.0</td>\n",
              "      <td>0.0</td>\n",
              "      <td>2016-01-01 02:00:00</td>\n",
              "      <td>24.066667</td>\n",
              "      <td>2016-01-01</td>\n",
              "      <td>23.3375</td>\n",
              "      <td>28.3</td>\n",
              "      <td>18.9</td>\n",
              "      <td>9.4</td>\n",
              "    </tr>\n",
              "    <tr>\n",
              "      <th>3</th>\n",
              "      <td>0</td>\n",
              "      <td>2016-01-01 03:00:00</td>\n",
              "      <td>21.1</td>\n",
              "      <td>2.0</td>\n",
              "      <td>20.6</td>\n",
              "      <td>0.0</td>\n",
              "      <td>1020.1</td>\n",
              "      <td>0.0</td>\n",
              "      <td>0.0</td>\n",
              "      <td>2016-01-01 03:00:00</td>\n",
              "      <td>23.325000</td>\n",
              "      <td>2016-01-01</td>\n",
              "      <td>23.3375</td>\n",
              "      <td>28.3</td>\n",
              "      <td>18.9</td>\n",
              "      <td>9.4</td>\n",
              "    </tr>\n",
              "    <tr>\n",
              "      <th>4</th>\n",
              "      <td>0</td>\n",
              "      <td>2016-01-01 04:00:00</td>\n",
              "      <td>20.0</td>\n",
              "      <td>2.0</td>\n",
              "      <td>20.0</td>\n",
              "      <td>-1.0</td>\n",
              "      <td>1020.0</td>\n",
              "      <td>250.0</td>\n",
              "      <td>2.6</td>\n",
              "      <td>2016-01-01 04:00:00</td>\n",
              "      <td>22.660000</td>\n",
              "      <td>2016-01-01</td>\n",
              "      <td>23.3375</td>\n",
              "      <td>28.3</td>\n",
              "      <td>18.9</td>\n",
              "      <td>9.4</td>\n",
              "    </tr>\n",
              "  </tbody>\n",
              "</table>\n",
              "</div>"
            ],
            "text/plain": [
              "   site_id            timestamp  ...   min  diff_air_temperature_per_day\n",
              "0        0  2016-01-01 00:00:00  ...  18.9                           9.4\n",
              "1        0  2016-01-01 01:00:00  ...  18.9                           9.4\n",
              "2        0  2016-01-01 02:00:00  ...  18.9                           9.4\n",
              "3        0  2016-01-01 03:00:00  ...  18.9                           9.4\n",
              "4        0  2016-01-01 04:00:00  ...  18.9                           9.4\n",
              "\n",
              "[5 rows x 16 columns]"
            ]
          },
          "metadata": {
            "tags": []
          },
          "execution_count": 14
        }
      ]
    },
    {
      "cell_type": "code",
      "metadata": {
        "id": "kkogiixanGUY",
        "colab_type": "code",
        "colab": {
          "base_uri": "https://localhost:8080/",
          "height": 394
        },
        "outputId": "65a7bca2-0607-4d93-cf62-a6d794a8b5c3"
      },
      "source": [
        "# Create daily average\n",
        "weather_train_df['date'] = weather_train_df['timestamp2'].dt.date\n",
        "#weather_train_df_daily_avg_airtemp = weather_train_df.groupby(['site_id','date'])['air_temperature'].mean().reset_index()\n",
        "weather_train_df_daily_avg_airtemp = weather_train_df.groupby(['site_id','date'])['air_temperature'].agg(['mean', 'max','min'])\n",
        "weather_train_df_daily_avg_airtemp['diff'] = weather_train_df_daily_avg_airtemp['max']-weather_train_df_daily_avg_airtemp['min']\n",
        "weather_train_df_daily_avg_airtemp = weather_train_df_daily_avg_airtemp.rename(columns={'mean': 'avg_daily_temp', 'diff': 'diff_daily_temp', 'max': 'max_daily_temp', 'min': 'min_daily_temp'})\n",
        "weather_train_df = pd.merge(weather_train_df, weather_train_df_daily_avg_airtemp, how='left', left_on=['site_id','date'], right_on=['site_id','date'])\n",
        "#clean the merged dataframe\n",
        "weather_train_df.drop(columns=['timestamp2', 'date'])\n",
        "weather_train_df.head()"
      ],
      "execution_count": null,
      "outputs": [
        {
          "output_type": "execute_result",
          "data": {
            "text/html": [
              "<div>\n",
              "<style scoped>\n",
              "    .dataframe tbody tr th:only-of-type {\n",
              "        vertical-align: middle;\n",
              "    }\n",
              "\n",
              "    .dataframe tbody tr th {\n",
              "        vertical-align: top;\n",
              "    }\n",
              "\n",
              "    .dataframe thead th {\n",
              "        text-align: right;\n",
              "    }\n",
              "</style>\n",
              "<table border=\"1\" class=\"dataframe\">\n",
              "  <thead>\n",
              "    <tr style=\"text-align: right;\">\n",
              "      <th></th>\n",
              "      <th>site_id</th>\n",
              "      <th>timestamp</th>\n",
              "      <th>air_temperature</th>\n",
              "      <th>cloud_coverage</th>\n",
              "      <th>dew_temperature</th>\n",
              "      <th>precip_depth_1_hr</th>\n",
              "      <th>sea_level_pressure</th>\n",
              "      <th>wind_direction</th>\n",
              "      <th>wind_speed</th>\n",
              "      <th>timestamp2</th>\n",
              "      <th>avg_air_temp_last_5hr</th>\n",
              "      <th>date</th>\n",
              "      <th>avg_air_temperature_per_day</th>\n",
              "      <th>max</th>\n",
              "      <th>min</th>\n",
              "      <th>diff_air_temperature_per_day</th>\n",
              "      <th>avg_daily_temp</th>\n",
              "      <th>max_daily_temp</th>\n",
              "      <th>min_daily_temp</th>\n",
              "      <th>diff_daily_temp</th>\n",
              "    </tr>\n",
              "  </thead>\n",
              "  <tbody>\n",
              "    <tr>\n",
              "      <th>0</th>\n",
              "      <td>0</td>\n",
              "      <td>2016-01-01 00:00:00</td>\n",
              "      <td>25.0</td>\n",
              "      <td>6.0</td>\n",
              "      <td>20.0</td>\n",
              "      <td>NaN</td>\n",
              "      <td>1019.7</td>\n",
              "      <td>0.0</td>\n",
              "      <td>0.0</td>\n",
              "      <td>2016-01-01 00:00:00</td>\n",
              "      <td>25.000000</td>\n",
              "      <td>2016-01-01</td>\n",
              "      <td>23.3375</td>\n",
              "      <td>28.3</td>\n",
              "      <td>18.9</td>\n",
              "      <td>9.4</td>\n",
              "      <td>23.3375</td>\n",
              "      <td>28.3</td>\n",
              "      <td>18.9</td>\n",
              "      <td>9.4</td>\n",
              "    </tr>\n",
              "    <tr>\n",
              "      <th>1</th>\n",
              "      <td>0</td>\n",
              "      <td>2016-01-01 01:00:00</td>\n",
              "      <td>24.4</td>\n",
              "      <td>NaN</td>\n",
              "      <td>21.1</td>\n",
              "      <td>-1.0</td>\n",
              "      <td>1020.2</td>\n",
              "      <td>70.0</td>\n",
              "      <td>1.5</td>\n",
              "      <td>2016-01-01 01:00:00</td>\n",
              "      <td>24.700000</td>\n",
              "      <td>2016-01-01</td>\n",
              "      <td>23.3375</td>\n",
              "      <td>28.3</td>\n",
              "      <td>18.9</td>\n",
              "      <td>9.4</td>\n",
              "      <td>23.3375</td>\n",
              "      <td>28.3</td>\n",
              "      <td>18.9</td>\n",
              "      <td>9.4</td>\n",
              "    </tr>\n",
              "    <tr>\n",
              "      <th>2</th>\n",
              "      <td>0</td>\n",
              "      <td>2016-01-01 02:00:00</td>\n",
              "      <td>22.8</td>\n",
              "      <td>2.0</td>\n",
              "      <td>21.1</td>\n",
              "      <td>0.0</td>\n",
              "      <td>1020.2</td>\n",
              "      <td>0.0</td>\n",
              "      <td>0.0</td>\n",
              "      <td>2016-01-01 02:00:00</td>\n",
              "      <td>24.066667</td>\n",
              "      <td>2016-01-01</td>\n",
              "      <td>23.3375</td>\n",
              "      <td>28.3</td>\n",
              "      <td>18.9</td>\n",
              "      <td>9.4</td>\n",
              "      <td>23.3375</td>\n",
              "      <td>28.3</td>\n",
              "      <td>18.9</td>\n",
              "      <td>9.4</td>\n",
              "    </tr>\n",
              "    <tr>\n",
              "      <th>3</th>\n",
              "      <td>0</td>\n",
              "      <td>2016-01-01 03:00:00</td>\n",
              "      <td>21.1</td>\n",
              "      <td>2.0</td>\n",
              "      <td>20.6</td>\n",
              "      <td>0.0</td>\n",
              "      <td>1020.1</td>\n",
              "      <td>0.0</td>\n",
              "      <td>0.0</td>\n",
              "      <td>2016-01-01 03:00:00</td>\n",
              "      <td>23.325000</td>\n",
              "      <td>2016-01-01</td>\n",
              "      <td>23.3375</td>\n",
              "      <td>28.3</td>\n",
              "      <td>18.9</td>\n",
              "      <td>9.4</td>\n",
              "      <td>23.3375</td>\n",
              "      <td>28.3</td>\n",
              "      <td>18.9</td>\n",
              "      <td>9.4</td>\n",
              "    </tr>\n",
              "    <tr>\n",
              "      <th>4</th>\n",
              "      <td>0</td>\n",
              "      <td>2016-01-01 04:00:00</td>\n",
              "      <td>20.0</td>\n",
              "      <td>2.0</td>\n",
              "      <td>20.0</td>\n",
              "      <td>-1.0</td>\n",
              "      <td>1020.0</td>\n",
              "      <td>250.0</td>\n",
              "      <td>2.6</td>\n",
              "      <td>2016-01-01 04:00:00</td>\n",
              "      <td>22.660000</td>\n",
              "      <td>2016-01-01</td>\n",
              "      <td>23.3375</td>\n",
              "      <td>28.3</td>\n",
              "      <td>18.9</td>\n",
              "      <td>9.4</td>\n",
              "      <td>23.3375</td>\n",
              "      <td>28.3</td>\n",
              "      <td>18.9</td>\n",
              "      <td>9.4</td>\n",
              "    </tr>\n",
              "  </tbody>\n",
              "</table>\n",
              "</div>"
            ],
            "text/plain": [
              "   site_id            timestamp  ...  min_daily_temp  diff_daily_temp\n",
              "0        0  2016-01-01 00:00:00  ...            18.9              9.4\n",
              "1        0  2016-01-01 01:00:00  ...            18.9              9.4\n",
              "2        0  2016-01-01 02:00:00  ...            18.9              9.4\n",
              "3        0  2016-01-01 03:00:00  ...            18.9              9.4\n",
              "4        0  2016-01-01 04:00:00  ...            18.9              9.4\n",
              "\n",
              "[5 rows x 20 columns]"
            ]
          },
          "metadata": {
            "tags": []
          },
          "execution_count": 15
        }
      ]
    },
    {
      "cell_type": "code",
      "metadata": {
        "id": "DomBAi82PnIv",
        "colab_type": "code",
        "colab": {
          "base_uri": "https://localhost:8080/",
          "height": 408
        },
        "outputId": "c3800017-579e-4b66-e12d-12a30b31718e"
      },
      "source": [
        "#join\n",
        "df=train_df.join(build_df.set_index(\"building_id\"), on=\"building_id\")\n",
        "df = pd.merge(df, weather_train_df,  how='left', left_on=['site_id','timestamp'], right_on = ['site_id','timestamp'])\n",
        "#correct the site_id=0 data entry issues\n",
        "df.loc[(df['site_id'] == 0) & (df['meter'] == 0), 'meter_reading'] = df[(df['site_id'] == 0) & (df['meter'] == 0)]['meter_reading'] * 0.2931\n",
        "df.head()\n",
        "df.info()"
      ],
      "execution_count": null,
      "outputs": [
        {
          "output_type": "stream",
          "text": [
            "<class 'pandas.core.frame.DataFrame'>\n",
            "Int64Index: 20216100 entries, 0 to 20216099\n",
            "Data columns (total 16 columns):\n",
            " #   Column              Dtype  \n",
            "---  ------              -----  \n",
            " 0   building_id         int16  \n",
            " 1   meter               int8   \n",
            " 2   timestamp           object \n",
            " 3   meter_reading       float32\n",
            " 4   site_id             int8   \n",
            " 5   primary_use         object \n",
            " 6   square_feet         int32  \n",
            " 7   year_built          float16\n",
            " 8   floor_count         float16\n",
            " 9   air_temperature     float16\n",
            " 10  cloud_coverage      float16\n",
            " 11  dew_temperature     float16\n",
            " 12  precip_depth_1_hr   float16\n",
            " 13  sea_level_pressure  float16\n",
            " 14  wind_direction      float16\n",
            " 15  wind_speed          float16\n",
            "dtypes: float16(9), float32(1), int16(1), int32(1), int8(2), object(2)\n",
            "memory usage: 1.0+ GB\n"
          ],
          "name": "stdout"
        }
      ]
    },
    {
      "cell_type": "code",
      "metadata": {
        "id": "0gmWPYJHudoI",
        "colab_type": "code",
        "colab": {
          "base_uri": "https://localhost:8080/",
          "height": 545
        },
        "outputId": "d09ef1e3-0d30-4562-a3ba-97fa6211479d"
      },
      "source": [
        "# get the energy of each building primary use\n",
        "primary_use_energy = df.groupby(['primary_use'])['meter_reading'].sum().reset_index()\n",
        "\n",
        "primary_use_energy"
      ],
      "execution_count": null,
      "outputs": [
        {
          "output_type": "execute_result",
          "data": {
            "text/html": [
              "<div>\n",
              "<style scoped>\n",
              "    .dataframe tbody tr th:only-of-type {\n",
              "        vertical-align: middle;\n",
              "    }\n",
              "\n",
              "    .dataframe tbody tr th {\n",
              "        vertical-align: top;\n",
              "    }\n",
              "\n",
              "    .dataframe thead th {\n",
              "        text-align: right;\n",
              "    }\n",
              "</style>\n",
              "<table border=\"1\" class=\"dataframe\">\n",
              "  <thead>\n",
              "    <tr style=\"text-align: right;\">\n",
              "      <th></th>\n",
              "      <th>primary_use</th>\n",
              "      <th>meter_reading</th>\n",
              "    </tr>\n",
              "  </thead>\n",
              "  <tbody>\n",
              "    <tr>\n",
              "      <th>0</th>\n",
              "      <td>Education</td>\n",
              "      <td>3.743959e+10</td>\n",
              "    </tr>\n",
              "    <tr>\n",
              "      <th>1</th>\n",
              "      <td>Entertainment/public assembly</td>\n",
              "      <td>1.073300e+09</td>\n",
              "    </tr>\n",
              "    <tr>\n",
              "      <th>2</th>\n",
              "      <td>Food sales and service</td>\n",
              "      <td>3.478696e+07</td>\n",
              "    </tr>\n",
              "    <tr>\n",
              "      <th>3</th>\n",
              "      <td>Healthcare</td>\n",
              "      <td>2.943511e+08</td>\n",
              "    </tr>\n",
              "    <tr>\n",
              "      <th>4</th>\n",
              "      <td>Lodging/residential</td>\n",
              "      <td>6.003741e+08</td>\n",
              "    </tr>\n",
              "    <tr>\n",
              "      <th>5</th>\n",
              "      <td>Manufacturing/industrial</td>\n",
              "      <td>3.594097e+07</td>\n",
              "    </tr>\n",
              "    <tr>\n",
              "      <th>6</th>\n",
              "      <td>Office</td>\n",
              "      <td>2.313915e+09</td>\n",
              "    </tr>\n",
              "    <tr>\n",
              "      <th>7</th>\n",
              "      <td>Other</td>\n",
              "      <td>3.359711e+07</td>\n",
              "    </tr>\n",
              "    <tr>\n",
              "      <th>8</th>\n",
              "      <td>Parking</td>\n",
              "      <td>3.621422e+07</td>\n",
              "    </tr>\n",
              "    <tr>\n",
              "      <th>9</th>\n",
              "      <td>Public services</td>\n",
              "      <td>4.792894e+08</td>\n",
              "    </tr>\n",
              "    <tr>\n",
              "      <th>10</th>\n",
              "      <td>Religious worship</td>\n",
              "      <td>1.739677e+05</td>\n",
              "    </tr>\n",
              "    <tr>\n",
              "      <th>11</th>\n",
              "      <td>Retail</td>\n",
              "      <td>1.574746e+07</td>\n",
              "    </tr>\n",
              "    <tr>\n",
              "      <th>12</th>\n",
              "      <td>Services</td>\n",
              "      <td>3.970278e+08</td>\n",
              "    </tr>\n",
              "    <tr>\n",
              "      <th>13</th>\n",
              "      <td>Technology/science</td>\n",
              "      <td>1.072838e+07</td>\n",
              "    </tr>\n",
              "    <tr>\n",
              "      <th>14</th>\n",
              "      <td>Utility</td>\n",
              "      <td>2.881735e+07</td>\n",
              "    </tr>\n",
              "    <tr>\n",
              "      <th>15</th>\n",
              "      <td>Warehouse/storage</td>\n",
              "      <td>6.081023e+06</td>\n",
              "    </tr>\n",
              "  </tbody>\n",
              "</table>\n",
              "</div>"
            ],
            "text/plain": [
              "                      primary_use  meter_reading\n",
              "0                       Education   3.743959e+10\n",
              "1   Entertainment/public assembly   1.073300e+09\n",
              "2          Food sales and service   3.478696e+07\n",
              "3                      Healthcare   2.943511e+08\n",
              "4             Lodging/residential   6.003741e+08\n",
              "5        Manufacturing/industrial   3.594097e+07\n",
              "6                          Office   2.313915e+09\n",
              "7                           Other   3.359711e+07\n",
              "8                         Parking   3.621422e+07\n",
              "9                 Public services   4.792894e+08\n",
              "10              Religious worship   1.739677e+05\n",
              "11                         Retail   1.574746e+07\n",
              "12                       Services   3.970278e+08\n",
              "13             Technology/science   1.072838e+07\n",
              "14                        Utility   2.881735e+07\n",
              "15              Warehouse/storage   6.081023e+06"
            ]
          },
          "metadata": {
            "tags": []
          },
          "execution_count": 10
        }
      ]
    },
    {
      "cell_type": "markdown",
      "metadata": {
        "id": "d48G1wN9CCFw",
        "colab_type": "text"
      },
      "source": [
        "**Plotting**"
      ]
    },
    {
      "cell_type": "markdown",
      "metadata": {
        "id": "movD9WHtHgcc",
        "colab_type": "text"
      },
      "source": [
        "plot - meter reading"
      ]
    },
    {
      "cell_type": "code",
      "metadata": {
        "id": "6-SpyoVJHij8",
        "colab_type": "code",
        "colab": {
          "base_uri": "https://localhost:8080/",
          "height": 344
        },
        "outputId": "102aa085-2ae6-4b1e-8d65-d6f94f5175f7"
      },
      "source": [
        "import seaborn\n",
        "plt.figure(figsize=(20,5))\n",
        "# bw is the bandwidth - decrease it to fit the data tighter\n",
        "seaborn.kdeplot(df.meter_reading, bw=0.5, shade=True)\n",
        "plt.show()"
      ],
      "execution_count": null,
      "outputs": [
        {
          "output_type": "display_data",
          "data": {
            "image/png": "[encoded data removed]",
            "text/plain": [
              "<Figure size 1440x360 with 1 Axes>"
            ]
          },
          "metadata": {
            "tags": [],
            "needs_background": "light"
          }
        }
      ]
    },
    {
      "cell_type": "code",
      "metadata": {
        "id": "XtnwWM76L7Mk",
        "colab_type": "code",
        "colab": {
          "base_uri": "https://localhost:8080/",
          "height": 170
        },
        "outputId": "6c3a4490-b155-4a93-d385-23801dd83c27"
      },
      "source": [
        "df.meter_reading.describe()"
      ],
      "execution_count": null,
      "outputs": [
        {
          "output_type": "execute_result",
          "data": {
            "text/plain": [
              "count    2.021610e+07\n",
              "mean     1.987455e+03\n",
              "std      1.532159e+05\n",
              "min      0.000000e+00\n",
              "25%      1.797590e+01\n",
              "50%      7.509000e+01\n",
              "75%      2.526000e+02\n",
              "max      2.190470e+07\n",
              "Name: meter_reading, dtype: float64"
            ]
          },
          "metadata": {
            "tags": []
          },
          "execution_count": 93
        }
      ]
    },
    {
      "cell_type": "code",
      "metadata": {
        "id": "hgNr7RbXJnI0",
        "colab_type": "code",
        "colab": {
          "base_uri": "https://localhost:8080/",
          "height": 322
        },
        "outputId": "6fa22ea7-8eb4-4689-ad3e-9af7965f2767"
      },
      "source": [
        "import matplotlib.pyplot as plt\n",
        "plt.figure(figsize=(20,5))\n",
        "seaborn.boxplot(y=\"meter_reading\", data=df)\n",
        "plt.title(\"box plot of meter_reading\")\n",
        "plt.show()"
      ],
      "execution_count": null,
      "outputs": [
        {
          "output_type": "display_data",
          "data": {
            "image/png": "[encoded data removed]",
            "text/plain": [
              "<Figure size 1440x360 with 1 Axes>"
            ]
          },
          "metadata": {
            "tags": [],
            "needs_background": "light"
          }
        }
      ]
    },
    {
      "cell_type": "markdown",
      "metadata": {
        "id": "EWwv4sIlbAFI",
        "colab_type": "text"
      },
      "source": [
        "plot - meter type"
      ]
    },
    {
      "cell_type": "code",
      "metadata": {
        "id": "WUhxnU2wCEbU",
        "colab_type": "code",
        "colab": {
          "base_uri": "https://localhost:8080/",
          "height": 295
        },
        "outputId": "10e4c37f-5312-4eab-a912-c56ea032d23d"
      },
      "source": [
        "import seaborn\n",
        "import matplotlib.pyplot as plt\n",
        "seaborn.boxplot(x=\"meter\", y=\"meter_reading\", data=df)\n",
        "plt.title(\"box plot of meter_reading for each meter type\")\n",
        "plt.show()"
      ],
      "execution_count": null,
      "outputs": [
        {
          "output_type": "display_data",
          "data": {
            "image/png": "[encoded data removed]",
            "text/plain": [
              "<Figure size 432x288 with 1 Axes>"
            ]
          },
          "metadata": {
            "tags": [],
            "needs_background": "light"
          }
        }
      ]
    },
    {
      "cell_type": "markdown",
      "metadata": {
        "id": "FWl9p5WTbEge",
        "colab_type": "text"
      },
      "source": [
        "plot - hour"
      ]
    },
    {
      "cell_type": "code",
      "metadata": {
        "id": "6_wwL2Cyan4f",
        "colab_type": "code",
        "colab": {}
      },
      "source": [
        "from datetime import datetime\n",
        "df['timestamp'] = df['timestamp'].astype('datetime64[ns]') \n",
        "df['hour'] = df['timestamp'].dt.hour\n",
        "\n"
      ],
      "execution_count": null,
      "outputs": []
    },
    {
      "cell_type": "code",
      "metadata": {
        "id": "m7A01fVCe4OJ",
        "colab_type": "code",
        "colab": {}
      },
      "source": [
        "temp_df_2 = df.groupby(['hour'])['meter_reading'].agg(['sum']).reset_index()\n",
        "temp_df_2"
      ],
      "execution_count": null,
      "outputs": []
    },
    {
      "cell_type": "code",
      "metadata": {
        "id": "7xFv26QwYtxU",
        "colab_type": "code",
        "colab": {
          "base_uri": "https://localhost:8080/",
          "height": 295
        },
        "outputId": "81c45bb0-2500-4bdb-f59b-f5e6334f38eb"
      },
      "source": [
        "plt.figure()\n",
        "plt.plot(temp_df_2['hour'], temp_df_2[\"sum\"] )\n",
        "plt.title(\"meter_reading curve\")\n",
        "plt.xlabel(\"hour\")\n",
        "plt.ylabel(\"meter_reading\")\n",
        "plt.show()"
      ],
      "execution_count": null,
      "outputs": [
        {
          "output_type": "display_data",
          "data": {
            "image/png": "[encoded data removed]",
            "text/plain": [
              "<Figure size 432x288 with 1 Axes>"
            ]
          },
          "metadata": {
            "tags": [],
            "needs_background": "light"
          }
        }
      ]
    },
    {
      "cell_type": "markdown",
      "metadata": {
        "id": "UAgU_ouRfUka",
        "colab_type": "text"
      },
      "source": [
        "plot - hour - meter type"
      ]
    },
    {
      "cell_type": "code",
      "metadata": {
        "id": "Tn3j9zx1fcOY",
        "colab_type": "code",
        "colab": {}
      },
      "source": [
        "from datetime import datetime\n",
        "df['timestamp'] = df['timestamp'].astype('datetime64[ns]') \n",
        "df['hour'] = df['timestamp'].dt.hour"
      ],
      "execution_count": null,
      "outputs": []
    },
    {
      "cell_type": "code",
      "metadata": {
        "id": "bzYHJic2fjns",
        "colab_type": "code",
        "colab": {}
      },
      "source": [
        "temp_df = df.loc[df['meter']==3, :]\n",
        "temp_df_2 = temp_df.groupby(['hour'])['meter_reading'].agg(['sum']).reset_index()\n",
        "#temp_df_2"
      ],
      "execution_count": null,
      "outputs": []
    },
    {
      "cell_type": "code",
      "metadata": {
        "id": "x6naa9rIfmUx",
        "colab_type": "code",
        "colab": {
          "base_uri": "https://localhost:8080/",
          "height": 295
        },
        "outputId": "f4b7b0f4-06ce-492c-ec96-a1da14bdf485"
      },
      "source": [
        "plt.figure()\n",
        "plt.plot(temp_df_2['hour'], temp_df_2[\"sum\"] )\n",
        "plt.title(\"meter_reading curve\")\n",
        "plt.xlabel(\"hour\")\n",
        "plt.ylabel(\"meter_reading\")\n",
        "plt.show()"
      ],
      "execution_count": null,
      "outputs": [
        {
          "output_type": "display_data",
          "data": {
            "image/png": "[encoded data removed]",
            "text/plain": [
              "<Figure size 432x288 with 1 Axes>"
            ]
          },
          "metadata": {
            "tags": [],
            "needs_background": "light"
          }
        }
      ]
    },
    {
      "cell_type": "markdown",
      "metadata": {
        "id": "8IGLtE86uyF4",
        "colab_type": "text"
      },
      "source": [
        "plot - month"
      ]
    },
    {
      "cell_type": "code",
      "metadata": {
        "id": "Y-UcMxf-ut87",
        "colab_type": "code",
        "colab": {}
      },
      "source": [
        "from datetime import datetime\n",
        "df['timestamp'] = df['timestamp'].astype('datetime64[ns]') \n",
        "df['month'] = df['timestamp'].dt.month"
      ],
      "execution_count": null,
      "outputs": []
    },
    {
      "cell_type": "code",
      "metadata": {
        "id": "nxIn1n8ovJYF",
        "colab_type": "code",
        "colab": {}
      },
      "source": [
        "temp_df = df.loc[df['meter']==3, :]\n",
        "#temp_df_2 = df.groupby(['month'])['meter_reading'].agg(['mean']).reset_index()\n",
        "temp_df_2 = temp_df.groupby(['month'])['meter_reading'].agg(['mean']).reset_index()"
      ],
      "execution_count": null,
      "outputs": []
    },
    {
      "cell_type": "code",
      "metadata": {
        "id": "rOOpbIfRvKsP",
        "colab_type": "code",
        "colab": {
          "base_uri": "https://localhost:8080/",
          "height": 295
        },
        "outputId": "21f4c4d1-8427-423d-b5db-7fb7345f7ce9"
      },
      "source": [
        "plt.figure()\n",
        "plt.plot(temp_df_2['month'], temp_df_2[\"mean\"] )\n",
        "plt.title(\"meter_reading curve\")\n",
        "plt.xlabel(\"month\")\n",
        "plt.ylabel(\"avg_meter_reading\")\n",
        "plt.show()"
      ],
      "execution_count": null,
      "outputs": [
        {
          "output_type": "display_data",
          "data": {
            "image/png": "[encoded data removed]",
            "text/plain": [
              "<Figure size 432x288 with 1 Axes>"
            ]
          },
          "metadata": {
            "tags": [],
            "needs_background": "light"
          }
        }
      ]
    },
    {
      "cell_type": "markdown",
      "metadata": {
        "id": "_yZ6uBfBhs4P",
        "colab_type": "text"
      },
      "source": [
        "plot - air temperature"
      ]
    },
    {
      "cell_type": "code",
      "metadata": {
        "id": "pjOVrc92jLN-",
        "colab_type": "code",
        "colab": {
          "base_uri": "https://localhost:8080/",
          "height": 119
        },
        "outputId": "b450b80f-d402-4eac-ebb6-e7aae30c36e2"
      },
      "source": [
        "temp_df = df.loc[df['air_temperature'].notnull()]\n",
        "temp_df[\"air_temperature_int\"] = temp_df[\"air_temperature\"].astype(int) # for better visualization, air temperature is set to integer\n",
        "temp_df_2 = temp_df.groupby(['air_temperature_int'])['meter_reading'].agg(['mean']).reset_index() # use mean air temperature because the observation of air temperature is not even"
      ],
      "execution_count": null,
      "outputs": [
        {
          "output_type": "stream",
          "text": [
            "/usr/local/lib/python3.6/dist-packages/ipykernel_launcher.py:2: SettingWithCopyWarning: \n",
            "A value is trying to be set on a copy of a slice from a DataFrame.\n",
            "Try using .loc[row_indexer,col_indexer] = value instead\n",
            "\n",
            "See the caveats in the documentation: https://pandas.pydata.org/pandas-docs/stable/user_guide/indexing.html#returning-a-view-versus-a-copy\n",
            "  \n"
          ],
          "name": "stderr"
        }
      ]
    },
    {
      "cell_type": "code",
      "metadata": {
        "id": "m64P5e0uhvrr",
        "colab_type": "code",
        "colab": {
          "base_uri": "https://localhost:8080/",
          "height": 296
        },
        "outputId": "d178d322-5d55-4537-9ee1-37d500458598"
      },
      "source": [
        "plt.figure()\n",
        "plt.plot(temp_df_2['air_temperature_int'], temp_df_2[\"mean\"] )\n",
        "plt.title(\"meter_reading curve\")\n",
        "plt.xlabel(\"air_temperature_int\")\n",
        "plt.ylabel(\"avg_meter_reading\")\n",
        "plt.show()"
      ],
      "execution_count": null,
      "outputs": [
        {
          "output_type": "display_data",
          "data": {
            "image/png": "[encoded data removed]",
            "text/plain": [
              "<Figure size 432x288 with 1 Axes>"
            ]
          },
          "metadata": {
            "tags": [],
            "needs_background": "light"
          }
        }
      ]
    },
    {
      "cell_type": "markdown",
      "metadata": {
        "id": "2oZkRNMSPV1O",
        "colab_type": "text"
      },
      "source": [
        "plot - other weather var"
      ]
    },
    {
      "cell_type": "code",
      "metadata": {
        "id": "_OMSfjDEPxJn",
        "colab_type": "code",
        "colab": {}
      },
      "source": [
        "variable_list = (\"cloud_coverage\", \"dew_temperature\", \"precip_depth_1_hr\", \"sea_level_pressure\", \"wind_direction\", \"wind_speed\")"
      ],
      "execution_count": null,
      "outputs": []
    },
    {
      "cell_type": "code",
      "metadata": {
        "id": "NC191B_8Pajo",
        "colab_type": "code",
        "colab": {
          "base_uri": "https://localhost:8080/",
          "height": 1000
        },
        "outputId": "816bc677-4ec3-4cab-f04e-5c78e6d87900"
      },
      "source": [
        "for one_var in variable_list:\n",
        "  temp_df = df.loc[df[one_var].notnull()]\n",
        "  temp_df[one_var] = temp_df[one_var].astype(int) # for better visualization, air temperature is set to integer\n",
        "  temp_df_2 = temp_df.groupby([one_var])['meter_reading'].agg(['mean']).reset_index() # use mean air temperature because the observation of air temperature is not even\n",
        "  plt.figure()\n",
        "  plt.plot(temp_df_2[one_var], temp_df_2[\"mean\"] )\n",
        "  plt.title(\"meter_reading curve\")\n",
        "  plt.xlabel(one_var)\n",
        "  plt.ylabel(\"avg_meter_reading\")\n",
        "  plt.show()"
      ],
      "execution_count": null,
      "outputs": [
        {
          "output_type": "stream",
          "text": [
            "/usr/local/lib/python3.6/dist-packages/ipykernel_launcher.py:3: SettingWithCopyWarning: \n",
            "A value is trying to be set on a copy of a slice from a DataFrame.\n",
            "Try using .loc[row_indexer,col_indexer] = value instead\n",
            "\n",
            "See the caveats in the documentation: https://pandas.pydata.org/pandas-docs/stable/user_guide/indexing.html#returning-a-view-versus-a-copy\n",
            "  This is separate from the ipykernel package so we can avoid doing imports until\n"
          ],
          "name": "stderr"
        },
        {
          "output_type": "display_data",
          "data": {
            "image/png": "[encoded data removed]",
            "text/plain": [
              "<Figure size 432x288 with 1 Axes>"
            ]
          },
          "metadata": {
            "tags": [],
            "needs_background": "light"
          }
        },
        {
          "output_type": "stream",
          "text": [
            "/usr/local/lib/python3.6/dist-packages/ipykernel_launcher.py:3: SettingWithCopyWarning: \n",
            "A value is trying to be set on a copy of a slice from a DataFrame.\n",
            "Try using .loc[row_indexer,col_indexer] = value instead\n",
            "\n",
            "See the caveats in the documentation: https://pandas.pydata.org/pandas-docs/stable/user_guide/indexing.html#returning-a-view-versus-a-copy\n",
            "  This is separate from the ipykernel package so we can avoid doing imports until\n"
          ],
          "name": "stderr"
        },
        {
          "output_type": "display_data",
          "data": {
            "image/png": "[encoded data removed]",
            "text/plain": [
              "<Figure size 432x288 with 1 Axes>"
            ]
          },
          "metadata": {
            "tags": [],
            "needs_background": "light"
          }
        },
        {
          "output_type": "stream",
          "text": [
            "/usr/local/lib/python3.6/dist-packages/ipykernel_launcher.py:3: SettingWithCopyWarning: \n",
            "A value is trying to be set on a copy of a slice from a DataFrame.\n",
            "Try using .loc[row_indexer,col_indexer] = value instead\n",
            "\n",
            "See the caveats in the documentation: https://pandas.pydata.org/pandas-docs/stable/user_guide/indexing.html#returning-a-view-versus-a-copy\n",
            "  This is separate from the ipykernel package so we can avoid doing imports until\n"
          ],
          "name": "stderr"
        },
        {
          "output_type": "display_data",
          "data": {
            "image/png": "[encoded data removed]",
            "text/plain": [
              "<Figure size 432x288 with 1 Axes>"
            ]
          },
          "metadata": {
            "tags": [],
            "needs_background": "light"
          }
        },
        {
          "output_type": "stream",
          "text": [
            "/usr/local/lib/python3.6/dist-packages/ipykernel_launcher.py:3: SettingWithCopyWarning: \n",
            "A value is trying to be set on a copy of a slice from a DataFrame.\n",
            "Try using .loc[row_indexer,col_indexer] = value instead\n",
            "\n",
            "See the caveats in the documentation: https://pandas.pydata.org/pandas-docs/stable/user_guide/indexing.html#returning-a-view-versus-a-copy\n",
            "  This is separate from the ipykernel package so we can avoid doing imports until\n"
          ],
          "name": "stderr"
        },
        {
          "output_type": "display_data",
          "data": {
            "image/png": "[encoded data removed]",
            "text/plain": [
              "<Figure size 432x288 with 1 Axes>"
            ]
          },
          "metadata": {
            "tags": [],
            "needs_background": "light"
          }
        },
        {
          "output_type": "stream",
          "text": [
            "/usr/local/lib/python3.6/dist-packages/ipykernel_launcher.py:3: SettingWithCopyWarning: \n",
            "A value is trying to be set on a copy of a slice from a DataFrame.\n",
            "Try using .loc[row_indexer,col_indexer] = value instead\n",
            "\n",
            "See the caveats in the documentation: https://pandas.pydata.org/pandas-docs/stable/user_guide/indexing.html#returning-a-view-versus-a-copy\n",
            "  This is separate from the ipykernel package so we can avoid doing imports until\n"
          ],
          "name": "stderr"
        },
        {
          "output_type": "display_data",
          "data": {
            "image/png": "[encoded data removed]",
            "text/plain": [
              "<Figure size 432x288 with 1 Axes>"
            ]
          },
          "metadata": {
            "tags": [],
            "needs_background": "light"
          }
        },
        {
          "output_type": "stream",
          "text": [
            "/usr/local/lib/python3.6/dist-packages/ipykernel_launcher.py:3: SettingWithCopyWarning: \n",
            "A value is trying to be set on a copy of a slice from a DataFrame.\n",
            "Try using .loc[row_indexer,col_indexer] = value instead\n",
            "\n",
            "See the caveats in the documentation: https://pandas.pydata.org/pandas-docs/stable/user_guide/indexing.html#returning-a-view-versus-a-copy\n",
            "  This is separate from the ipykernel package so we can avoid doing imports until\n"
          ],
          "name": "stderr"
        },
        {
          "output_type": "display_data",
          "data": {
            "image/png": "[encoded data removed]",
            "text/plain": [
              "<Figure size 432x288 with 1 Axes>"
            ]
          },
          "metadata": {
            "tags": [],
            "needs_background": "light"
          }
        }
      ]
    },
    {
      "cell_type": "markdown",
      "metadata": {
        "id": "q3Eg4mbV2VnK",
        "colab_type": "text"
      },
      "source": [
        "plot - square feet"
      ]
    },
    {
      "cell_type": "code",
      "metadata": {
        "id": "0tJ85rcD2YRm",
        "colab_type": "code",
        "colab": {
          "base_uri": "https://localhost:8080/",
          "height": 34
        },
        "outputId": "80145ccc-be64-4248-fe7c-7450c3421df3"
      },
      "source": [
        "df['square_feet'].min()"
      ],
      "execution_count": null,
      "outputs": [
        {
          "output_type": "execute_result",
          "data": {
            "text/plain": [
              "283"
            ]
          },
          "metadata": {
            "tags": []
          },
          "execution_count": 51
        }
      ]
    },
    {
      "cell_type": "code",
      "metadata": {
        "id": "nEWZm4IQ2uRG",
        "colab_type": "code",
        "colab": {}
      },
      "source": [
        "temp_df = df.loc[df['square_feet'].notnull()]\n",
        "temp_df['square_feet_thousands'] = temp_df['square_feet'] / 10000\n",
        "temp_df['square_feet_thousands'] = temp_df['square_feet_thousands'].astype(int)\n",
        "temp_df_2 = temp_df.groupby(['square_feet_thousands'])['meter_reading'].agg(['mean']).reset_index() "
      ],
      "execution_count": null,
      "outputs": []
    },
    {
      "cell_type": "code",
      "metadata": {
        "id": "OWs7t-RT3G_V",
        "colab_type": "code",
        "colab": {
          "base_uri": "https://localhost:8080/",
          "height": 296
        },
        "outputId": "aa4ddfca-0cf1-4353-ec80-f93bf6c2f06c"
      },
      "source": [
        "plt.figure()\n",
        "plt.plot(temp_df_2['square_feet_thousands'], temp_df_2[\"mean\"] )\n",
        "plt.title(\"meter_reading curve\")\n",
        "plt.xlabel(\"square_feet_in_ten_thousands\")\n",
        "plt.ylabel(\"avg_meter_reading\")\n",
        "plt.show()"
      ],
      "execution_count": null,
      "outputs": [
        {
          "output_type": "display_data",
          "data": {
            "image/png": "[encoded data removed]",
            "text/plain": [
              "<Figure size 432x288 with 1 Axes>"
            ]
          },
          "metadata": {
            "tags": [],
            "needs_background": "light"
          }
        }
      ]
    },
    {
      "cell_type": "markdown",
      "metadata": {
        "id": "ns2Vca-05kYG",
        "colab_type": "text"
      },
      "source": [
        "investigate what buildings have high meter_reading"
      ]
    },
    {
      "cell_type": "code",
      "metadata": {
        "id": "YqbMw7OrDM6G",
        "colab_type": "code",
        "colab": {
          "base_uri": "https://localhost:8080/",
          "height": 419
        },
        "outputId": "366e7325-52a0-4672-d62b-87ff79c55739"
      },
      "source": [
        "temp_df_2.sort_values(by=['mean'])"
      ],
      "execution_count": null,
      "outputs": [
        {
          "output_type": "execute_result",
          "data": {
            "text/html": [
              "<div>\n",
              "<style scoped>\n",
              "    .dataframe tbody tr th:only-of-type {\n",
              "        vertical-align: middle;\n",
              "    }\n",
              "\n",
              "    .dataframe tbody tr th {\n",
              "        vertical-align: top;\n",
              "    }\n",
              "\n",
              "    .dataframe thead th {\n",
              "        text-align: right;\n",
              "    }\n",
              "</style>\n",
              "<table border=\"1\" class=\"dataframe\">\n",
              "  <thead>\n",
              "    <tr style=\"text-align: right;\">\n",
              "      <th></th>\n",
              "      <th>square_feet_thousands</th>\n",
              "      <th>mean</th>\n",
              "    </tr>\n",
              "  </thead>\n",
              "  <tbody>\n",
              "    <tr>\n",
              "      <th>0</th>\n",
              "      <td>0</td>\n",
              "      <td>31.198277</td>\n",
              "    </tr>\n",
              "    <tr>\n",
              "      <th>1</th>\n",
              "      <td>1</td>\n",
              "      <td>63.344677</td>\n",
              "    </tr>\n",
              "    <tr>\n",
              "      <th>4</th>\n",
              "      <td>4</td>\n",
              "      <td>87.583466</td>\n",
              "    </tr>\n",
              "    <tr>\n",
              "      <th>2</th>\n",
              "      <td>2</td>\n",
              "      <td>102.571144</td>\n",
              "    </tr>\n",
              "    <tr>\n",
              "      <th>3</th>\n",
              "      <td>3</td>\n",
              "      <td>122.094719</td>\n",
              "    </tr>\n",
              "    <tr>\n",
              "      <th>...</th>\n",
              "      <td>...</td>\n",
              "      <td>...</td>\n",
              "    </tr>\n",
              "    <tr>\n",
              "      <th>40</th>\n",
              "      <td>44</td>\n",
              "      <td>7314.076660</td>\n",
              "    </tr>\n",
              "    <tr>\n",
              "      <th>53</th>\n",
              "      <td>67</td>\n",
              "      <td>7722.649414</td>\n",
              "    </tr>\n",
              "    <tr>\n",
              "      <th>60</th>\n",
              "      <td>86</td>\n",
              "      <td>10058.896484</td>\n",
              "    </tr>\n",
              "    <tr>\n",
              "      <th>51</th>\n",
              "      <td>57</td>\n",
              "      <td>16425.283203</td>\n",
              "    </tr>\n",
              "    <tr>\n",
              "      <th>32</th>\n",
              "      <td>33</td>\n",
              "      <td>384237.656250</td>\n",
              "    </tr>\n",
              "  </tbody>\n",
              "</table>\n",
              "<p>62 rows × 2 columns</p>\n",
              "</div>"
            ],
            "text/plain": [
              "    square_feet_thousands           mean\n",
              "0                       0      31.198277\n",
              "1                       1      63.344677\n",
              "4                       4      87.583466\n",
              "2                       2     102.571144\n",
              "3                       3     122.094719\n",
              "..                    ...            ...\n",
              "40                     44    7314.076660\n",
              "53                     67    7722.649414\n",
              "60                     86   10058.896484\n",
              "51                     57   16425.283203\n",
              "32                     33  384237.656250\n",
              "\n",
              "[62 rows x 2 columns]"
            ]
          },
          "metadata": {
            "tags": []
          },
          "execution_count": 84
        }
      ]
    },
    {
      "cell_type": "code",
      "metadata": {
        "id": "InR0Dy2b4HXo",
        "colab_type": "code",
        "colab": {
          "base_uri": "https://localhost:8080/",
          "height": 359
        },
        "outputId": "106208a0-795d-4f96-9e1a-20d42205fa13"
      },
      "source": [
        "#temp_df = df.loc[df['meter_reading']>50000, :]\n",
        "temp_df = temp_df.loc[temp_df['square_feet_thousands']==33, :]\n",
        "temp_df_2 = temp_df[[\"building_id\", \"primary_use\", \"meter\", \"year_built\", \"square_feet\"]]\n",
        "temp_df_2.drop_duplicates()"
      ],
      "execution_count": null,
      "outputs": [
        {
          "output_type": "execute_result",
          "data": {
            "text/html": [
              "<div>\n",
              "<style scoped>\n",
              "    .dataframe tbody tr th:only-of-type {\n",
              "        vertical-align: middle;\n",
              "    }\n",
              "\n",
              "    .dataframe tbody tr th {\n",
              "        vertical-align: top;\n",
              "    }\n",
              "\n",
              "    .dataframe thead th {\n",
              "        text-align: right;\n",
              "    }\n",
              "</style>\n",
              "<table border=\"1\" class=\"dataframe\">\n",
              "  <thead>\n",
              "    <tr style=\"text-align: right;\">\n",
              "      <th></th>\n",
              "      <th>building_id</th>\n",
              "      <th>primary_use</th>\n",
              "      <th>meter</th>\n",
              "      <th>year_built</th>\n",
              "      <th>square_feet</th>\n",
              "    </tr>\n",
              "  </thead>\n",
              "  <tbody>\n",
              "    <tr>\n",
              "      <th>966</th>\n",
              "      <td>792</td>\n",
              "      <td>Education</td>\n",
              "      <td>1</td>\n",
              "      <td>1938.0</td>\n",
              "      <td>333681</td>\n",
              "    </tr>\n",
              "    <tr>\n",
              "      <th>967</th>\n",
              "      <td>792</td>\n",
              "      <td>Education</td>\n",
              "      <td>2</td>\n",
              "      <td>1938.0</td>\n",
              "      <td>333681</td>\n",
              "    </tr>\n",
              "    <tr>\n",
              "      <th>1236</th>\n",
              "      <td>945</td>\n",
              "      <td>Office</td>\n",
              "      <td>0</td>\n",
              "      <td>NaN</td>\n",
              "      <td>332447</td>\n",
              "    </tr>\n",
              "    <tr>\n",
              "      <th>1237</th>\n",
              "      <td>945</td>\n",
              "      <td>Office</td>\n",
              "      <td>1</td>\n",
              "      <td>NaN</td>\n",
              "      <td>332447</td>\n",
              "    </tr>\n",
              "    <tr>\n",
              "      <th>1238</th>\n",
              "      <td>945</td>\n",
              "      <td>Office</td>\n",
              "      <td>2</td>\n",
              "      <td>NaN</td>\n",
              "      <td>332447</td>\n",
              "    </tr>\n",
              "    <tr>\n",
              "      <th>1533</th>\n",
              "      <td>1099</td>\n",
              "      <td>Education</td>\n",
              "      <td>0</td>\n",
              "      <td>NaN</td>\n",
              "      <td>332884</td>\n",
              "    </tr>\n",
              "    <tr>\n",
              "      <th>1534</th>\n",
              "      <td>1099</td>\n",
              "      <td>Education</td>\n",
              "      <td>2</td>\n",
              "      <td>NaN</td>\n",
              "      <td>332884</td>\n",
              "    </tr>\n",
              "    <tr>\n",
              "      <th>1603</th>\n",
              "      <td>1139</td>\n",
              "      <td>Office</td>\n",
              "      <td>0</td>\n",
              "      <td>NaN</td>\n",
              "      <td>336650</td>\n",
              "    </tr>\n",
              "    <tr>\n",
              "      <th>1604</th>\n",
              "      <td>1139</td>\n",
              "      <td>Office</td>\n",
              "      <td>1</td>\n",
              "      <td>NaN</td>\n",
              "      <td>336650</td>\n",
              "    </tr>\n",
              "    <tr>\n",
              "      <th>1605</th>\n",
              "      <td>1139</td>\n",
              "      <td>Office</td>\n",
              "      <td>2</td>\n",
              "      <td>NaN</td>\n",
              "      <td>336650</td>\n",
              "    </tr>\n",
              "  </tbody>\n",
              "</table>\n",
              "</div>"
            ],
            "text/plain": [
              "      building_id primary_use  meter  year_built  square_feet\n",
              "966           792   Education      1      1938.0       333681\n",
              "967           792   Education      2      1938.0       333681\n",
              "1236          945      Office      0         NaN       332447\n",
              "1237          945      Office      1         NaN       332447\n",
              "1238          945      Office      2         NaN       332447\n",
              "1533         1099   Education      0         NaN       332884\n",
              "1534         1099   Education      2         NaN       332884\n",
              "1603         1139      Office      0         NaN       336650\n",
              "1604         1139      Office      1         NaN       336650\n",
              "1605         1139      Office      2         NaN       336650"
            ]
          },
          "metadata": {
            "tags": []
          },
          "execution_count": 85
        }
      ]
    },
    {
      "cell_type": "markdown",
      "metadata": {
        "id": "d75RuHVF8kV2",
        "colab_type": "text"
      },
      "source": [
        "plot - year built"
      ]
    },
    {
      "cell_type": "code",
      "metadata": {
        "id": "fvdo8-_w8mHd",
        "colab_type": "code",
        "colab": {
          "base_uri": "https://localhost:8080/",
          "height": 34
        },
        "outputId": "4a37beaf-26d1-463f-ad4a-33ddcb11d604"
      },
      "source": [
        "df['year_built'].max()"
      ],
      "execution_count": null,
      "outputs": [
        {
          "output_type": "execute_result",
          "data": {
            "text/plain": [
              "2017.0"
            ]
          },
          "metadata": {
            "tags": []
          },
          "execution_count": 70
        }
      ]
    },
    {
      "cell_type": "code",
      "metadata": {
        "id": "_J40P7QZ9IND",
        "colab_type": "code",
        "colab": {}
      },
      "source": [
        "temp_df = df.loc[df['year_built'].notnull()]\n",
        "temp_df['year_built'] = temp_df['year_built'].astype(int)\n",
        "temp_df_2 = temp_df.groupby(['year_built'])['meter_reading'].agg(['mean']).reset_index() "
      ],
      "execution_count": null,
      "outputs": []
    },
    {
      "cell_type": "code",
      "metadata": {
        "id": "BkJwFPO79Z_A",
        "colab_type": "code",
        "colab": {
          "base_uri": "https://localhost:8080/",
          "height": 296
        },
        "outputId": "41db7f14-380a-495c-bfce-f538762a3f20"
      },
      "source": [
        "plt.figure()\n",
        "plt.plot(temp_df_2['year_built'], temp_df_2[\"mean\"] )\n",
        "plt.title(\"meter_reading curve\")\n",
        "plt.xlabel(\"year_built\")\n",
        "plt.ylabel(\"avg_meter_reading\")\n",
        "plt.show()"
      ],
      "execution_count": null,
      "outputs": [
        {
          "output_type": "display_data",
          "data": {
            "image/png": "[encoded data removed]",
            "text/plain": [
              "<Figure size 432x288 with 1 Axes>"
            ]
          },
          "metadata": {
            "tags": [],
            "needs_background": "light"
          }
        }
      ]
    },
    {
      "cell_type": "markdown",
      "metadata": {
        "id": "sPYay8s4_-Mf",
        "colab_type": "text"
      },
      "source": [
        "investigate what year of built have high meter_reading"
      ]
    },
    {
      "cell_type": "code",
      "metadata": {
        "id": "9Iabusi-AEWG",
        "colab_type": "code",
        "colab": {
          "base_uri": "https://localhost:8080/",
          "height": 419
        },
        "outputId": "d9210532-c325-496a-a116-418099577c7e"
      },
      "source": [
        "temp_df_2.sort_values(by=['mean'])"
      ],
      "execution_count": null,
      "outputs": [
        {
          "output_type": "execute_result",
          "data": {
            "text/html": [
              "<div>\n",
              "<style scoped>\n",
              "    .dataframe tbody tr th:only-of-type {\n",
              "        vertical-align: middle;\n",
              "    }\n",
              "\n",
              "    .dataframe tbody tr th {\n",
              "        vertical-align: top;\n",
              "    }\n",
              "\n",
              "    .dataframe thead th {\n",
              "        text-align: right;\n",
              "    }\n",
              "</style>\n",
              "<table border=\"1\" class=\"dataframe\">\n",
              "  <thead>\n",
              "    <tr style=\"text-align: right;\">\n",
              "      <th></th>\n",
              "      <th>year_built</th>\n",
              "      <th>mean</th>\n",
              "    </tr>\n",
              "  </thead>\n",
              "  <tbody>\n",
              "    <tr>\n",
              "      <th>19</th>\n",
              "      <td>1920</td>\n",
              "      <td>3.660648</td>\n",
              "    </tr>\n",
              "    <tr>\n",
              "      <th>17</th>\n",
              "      <td>1918</td>\n",
              "      <td>15.217703</td>\n",
              "    </tr>\n",
              "    <tr>\n",
              "      <th>18</th>\n",
              "      <td>1919</td>\n",
              "      <td>19.888433</td>\n",
              "    </tr>\n",
              "    <tr>\n",
              "      <th>28</th>\n",
              "      <td>1929</td>\n",
              "      <td>25.133806</td>\n",
              "    </tr>\n",
              "    <tr>\n",
              "      <th>13</th>\n",
              "      <td>1914</td>\n",
              "      <td>28.289911</td>\n",
              "    </tr>\n",
              "    <tr>\n",
              "      <th>...</th>\n",
              "      <td>...</td>\n",
              "      <td>...</td>\n",
              "    </tr>\n",
              "    <tr>\n",
              "      <th>104</th>\n",
              "      <td>2006</td>\n",
              "      <td>816.496765</td>\n",
              "    </tr>\n",
              "    <tr>\n",
              "      <th>107</th>\n",
              "      <td>2009</td>\n",
              "      <td>1523.678467</td>\n",
              "    </tr>\n",
              "    <tr>\n",
              "      <th>21</th>\n",
              "      <td>1922</td>\n",
              "      <td>1584.866333</td>\n",
              "    </tr>\n",
              "    <tr>\n",
              "      <th>37</th>\n",
              "      <td>1938</td>\n",
              "      <td>1790.506470</td>\n",
              "    </tr>\n",
              "    <tr>\n",
              "      <th>50</th>\n",
              "      <td>1952</td>\n",
              "      <td>1865.767700</td>\n",
              "    </tr>\n",
              "  </tbody>\n",
              "</table>\n",
              "<p>116 rows × 2 columns</p>\n",
              "</div>"
            ],
            "text/plain": [
              "     year_built         mean\n",
              "19         1920     3.660648\n",
              "17         1918    15.217703\n",
              "18         1919    19.888433\n",
              "28         1929    25.133806\n",
              "13         1914    28.289911\n",
              "..          ...          ...\n",
              "104        2006   816.496765\n",
              "107        2009  1523.678467\n",
              "21         1922  1584.866333\n",
              "37         1938  1790.506470\n",
              "50         1952  1865.767700\n",
              "\n",
              "[116 rows x 2 columns]"
            ]
          },
          "metadata": {
            "tags": []
          },
          "execution_count": 79
        }
      ]
    },
    {
      "cell_type": "code",
      "metadata": {
        "id": "KokDV5BfBAt6",
        "colab_type": "code",
        "colab": {
          "base_uri": "https://localhost:8080/",
          "height": 483
        },
        "outputId": "10ffdf4c-1414-4ffe-b779-916a57f361f0"
      },
      "source": [
        "temp_df = temp_df.loc[(df['year_built']==1952) | (df['year_built']==1938) | (df['year_built']==1922) | (df['year_built']==2009), :]\n",
        "temp_df_2 = temp_df[[\"building_id\", \"primary_use\", \"meter\", \"year_built\", \"square_feet\"]]\n",
        "temp_df_2.drop_duplicates()"
      ],
      "execution_count": null,
      "outputs": [
        {
          "output_type": "execute_result",
          "data": {
            "text/html": [
              "<div>\n",
              "<style scoped>\n",
              "    .dataframe tbody tr th:only-of-type {\n",
              "        vertical-align: middle;\n",
              "    }\n",
              "\n",
              "    .dataframe tbody tr th {\n",
              "        vertical-align: top;\n",
              "    }\n",
              "\n",
              "    .dataframe thead th {\n",
              "        text-align: right;\n",
              "    }\n",
              "</style>\n",
              "<table border=\"1\" class=\"dataframe\">\n",
              "  <thead>\n",
              "    <tr style=\"text-align: right;\">\n",
              "      <th></th>\n",
              "      <th>building_id</th>\n",
              "      <th>primary_use</th>\n",
              "      <th>meter</th>\n",
              "      <th>year_built</th>\n",
              "      <th>square_feet</th>\n",
              "    </tr>\n",
              "  </thead>\n",
              "  <tbody>\n",
              "    <tr>\n",
              "      <th>74</th>\n",
              "      <td>76</td>\n",
              "      <td>Education</td>\n",
              "      <td>0</td>\n",
              "      <td>2009</td>\n",
              "      <td>128887</td>\n",
              "    </tr>\n",
              "    <tr>\n",
              "      <th>180</th>\n",
              "      <td>166</td>\n",
              "      <td>Lodging/residential</td>\n",
              "      <td>0</td>\n",
              "      <td>2009</td>\n",
              "      <td>553210</td>\n",
              "    </tr>\n",
              "    <tr>\n",
              "      <th>181</th>\n",
              "      <td>166</td>\n",
              "      <td>Lodging/residential</td>\n",
              "      <td>1</td>\n",
              "      <td>2009</td>\n",
              "      <td>553210</td>\n",
              "    </tr>\n",
              "    <tr>\n",
              "      <th>182</th>\n",
              "      <td>166</td>\n",
              "      <td>Lodging/residential</td>\n",
              "      <td>3</td>\n",
              "      <td>2009</td>\n",
              "      <td>553210</td>\n",
              "    </tr>\n",
              "    <tr>\n",
              "      <th>525</th>\n",
              "      <td>365</td>\n",
              "      <td>Healthcare</td>\n",
              "      <td>0</td>\n",
              "      <td>1922</td>\n",
              "      <td>819577</td>\n",
              "    </tr>\n",
              "    <tr>\n",
              "      <th>547</th>\n",
              "      <td>387</td>\n",
              "      <td>Education</td>\n",
              "      <td>0</td>\n",
              "      <td>2009</td>\n",
              "      <td>104200</td>\n",
              "    </tr>\n",
              "    <tr>\n",
              "      <th>744</th>\n",
              "      <td>589</td>\n",
              "      <td>Education</td>\n",
              "      <td>0</td>\n",
              "      <td>1952</td>\n",
              "      <td>305268</td>\n",
              "    </tr>\n",
              "    <tr>\n",
              "      <th>796</th>\n",
              "      <td>648</td>\n",
              "      <td>Education</td>\n",
              "      <td>0</td>\n",
              "      <td>2009</td>\n",
              "      <td>154706</td>\n",
              "    </tr>\n",
              "    <tr>\n",
              "      <th>966</th>\n",
              "      <td>792</td>\n",
              "      <td>Education</td>\n",
              "      <td>1</td>\n",
              "      <td>1938</td>\n",
              "      <td>333681</td>\n",
              "    </tr>\n",
              "    <tr>\n",
              "      <th>967</th>\n",
              "      <td>792</td>\n",
              "      <td>Education</td>\n",
              "      <td>2</td>\n",
              "      <td>1938</td>\n",
              "      <td>333681</td>\n",
              "    </tr>\n",
              "    <tr>\n",
              "      <th>992</th>\n",
              "      <td>801</td>\n",
              "      <td>Education</td>\n",
              "      <td>0</td>\n",
              "      <td>1952</td>\n",
              "      <td>484376</td>\n",
              "    </tr>\n",
              "    <tr>\n",
              "      <th>993</th>\n",
              "      <td>801</td>\n",
              "      <td>Education</td>\n",
              "      <td>1</td>\n",
              "      <td>1952</td>\n",
              "      <td>484376</td>\n",
              "    </tr>\n",
              "    <tr>\n",
              "      <th>994</th>\n",
              "      <td>801</td>\n",
              "      <td>Education</td>\n",
              "      <td>2</td>\n",
              "      <td>1952</td>\n",
              "      <td>484376</td>\n",
              "    </tr>\n",
              "    <tr>\n",
              "      <th>3172367</th>\n",
              "      <td>76</td>\n",
              "      <td>Education</td>\n",
              "      <td>1</td>\n",
              "      <td>2009</td>\n",
              "      <td>128887</td>\n",
              "    </tr>\n",
              "  </tbody>\n",
              "</table>\n",
              "</div>"
            ],
            "text/plain": [
              "         building_id          primary_use  meter  year_built  square_feet\n",
              "74                76            Education      0        2009       128887\n",
              "180              166  Lodging/residential      0        2009       553210\n",
              "181              166  Lodging/residential      1        2009       553210\n",
              "182              166  Lodging/residential      3        2009       553210\n",
              "525              365           Healthcare      0        1922       819577\n",
              "547              387            Education      0        2009       104200\n",
              "744              589            Education      0        1952       305268\n",
              "796              648            Education      0        2009       154706\n",
              "966              792            Education      1        1938       333681\n",
              "967              792            Education      2        1938       333681\n",
              "992              801            Education      0        1952       484376\n",
              "993              801            Education      1        1952       484376\n",
              "994              801            Education      2        1952       484376\n",
              "3172367           76            Education      1        2009       128887"
            ]
          },
          "metadata": {
            "tags": []
          },
          "execution_count": 81
        }
      ]
    },
    {
      "cell_type": "markdown",
      "metadata": {
        "id": "QCnFw-XUGHvJ",
        "colab_type": "text"
      },
      "source": [
        "Plot - building id\n",
        "(to find outlier)"
      ]
    },
    {
      "cell_type": "code",
      "metadata": {
        "id": "BD0QIUj4GMRO",
        "colab_type": "code",
        "colab": {}
      },
      "source": [
        "temp_df_2 = df.groupby(['building_id'])['meter_reading'].agg(['mean']).reset_index()"
      ],
      "execution_count": null,
      "outputs": []
    },
    {
      "cell_type": "code",
      "metadata": {
        "id": "U2txfLNCGYdd",
        "colab_type": "code",
        "colab": {
          "base_uri": "https://localhost:8080/",
          "height": 296
        },
        "outputId": "144924ea-f407-4bdf-f20e-961415fa0f61"
      },
      "source": [
        "plt.figure()\n",
        "plt.plot(temp_df_2['building_id'], temp_df_2[\"mean\"] )\n",
        "plt.title(\"meter_reading curve\")\n",
        "plt.xlabel(\"building_id\")\n",
        "plt.ylabel(\"avg_meter_reading\")\n",
        "plt.show()"
      ],
      "execution_count": null,
      "outputs": [
        {
          "output_type": "display_data",
          "data": {
            "image/png": "[encoded data removed]",
            "text/plain": [
              "<Figure size 432x288 with 1 Axes>"
            ]
          },
          "metadata": {
            "tags": [],
            "needs_background": "light"
          }
        }
      ]
    },
    {
      "cell_type": "code",
      "metadata": {
        "id": "INpvgj0vGlJn",
        "colab_type": "code",
        "colab": {
          "base_uri": "https://localhost:8080/",
          "height": 419
        },
        "outputId": "4e86174e-d0dd-41f3-bc49-da9aebc7dd88"
      },
      "source": [
        "temp_df_2.sort_values(by=['mean'])"
      ],
      "execution_count": null,
      "outputs": [
        {
          "output_type": "execute_result",
          "data": {
            "text/html": [
              "<div>\n",
              "<style scoped>\n",
              "    .dataframe tbody tr th:only-of-type {\n",
              "        vertical-align: middle;\n",
              "    }\n",
              "\n",
              "    .dataframe tbody tr th {\n",
              "        vertical-align: top;\n",
              "    }\n",
              "\n",
              "    .dataframe thead th {\n",
              "        text-align: right;\n",
              "    }\n",
              "</style>\n",
              "<table border=\"1\" class=\"dataframe\">\n",
              "  <thead>\n",
              "    <tr style=\"text-align: right;\">\n",
              "      <th></th>\n",
              "      <th>building_id</th>\n",
              "      <th>mean</th>\n",
              "    </tr>\n",
              "  </thead>\n",
              "  <tbody>\n",
              "    <tr>\n",
              "      <th>740</th>\n",
              "      <td>740</td>\n",
              "      <td>3.999772e-04</td>\n",
              "    </tr>\n",
              "    <tr>\n",
              "      <th>817</th>\n",
              "      <td>817</td>\n",
              "      <td>1.710708e-01</td>\n",
              "    </tr>\n",
              "    <tr>\n",
              "      <th>815</th>\n",
              "      <td>815</td>\n",
              "      <td>1.752872e-01</td>\n",
              "    </tr>\n",
              "    <tr>\n",
              "      <th>636</th>\n",
              "      <td>636</td>\n",
              "      <td>1.844866e-01</td>\n",
              "    </tr>\n",
              "    <tr>\n",
              "      <th>637</th>\n",
              "      <td>637</td>\n",
              "      <td>2.000814e-01</td>\n",
              "    </tr>\n",
              "    <tr>\n",
              "      <th>...</th>\n",
              "      <td>...</td>\n",
              "      <td>...</td>\n",
              "    </tr>\n",
              "    <tr>\n",
              "      <th>1159</th>\n",
              "      <td>1159</td>\n",
              "      <td>1.199166e+04</td>\n",
              "    </tr>\n",
              "    <tr>\n",
              "      <th>1168</th>\n",
              "      <td>1168</td>\n",
              "      <td>1.642528e+04</td>\n",
              "    </tr>\n",
              "    <tr>\n",
              "      <th>1197</th>\n",
              "      <td>1197</td>\n",
              "      <td>2.222224e+04</td>\n",
              "    </tr>\n",
              "    <tr>\n",
              "      <th>778</th>\n",
              "      <td>778</td>\n",
              "      <td>2.612168e+04</td>\n",
              "    </tr>\n",
              "    <tr>\n",
              "      <th>1099</th>\n",
              "      <td>1099</td>\n",
              "      <td>1.907446e+06</td>\n",
              "    </tr>\n",
              "  </tbody>\n",
              "</table>\n",
              "<p>1449 rows × 2 columns</p>\n",
              "</div>"
            ],
            "text/plain": [
              "      building_id          mean\n",
              "740           740  3.999772e-04\n",
              "817           817  1.710708e-01\n",
              "815           815  1.752872e-01\n",
              "636           636  1.844866e-01\n",
              "637           637  2.000814e-01\n",
              "...           ...           ...\n",
              "1159         1159  1.199166e+04\n",
              "1168         1168  1.642528e+04\n",
              "1197         1197  2.222224e+04\n",
              "778           778  2.612168e+04\n",
              "1099         1099  1.907446e+06\n",
              "\n",
              "[1449 rows x 2 columns]"
            ]
          },
          "metadata": {
            "tags": []
          },
          "execution_count": 88
        }
      ]
    },
    {
      "cell_type": "code",
      "metadata": {
        "id": "aWr7-Hxswk4F",
        "colab_type": "code",
        "colab": {
          "base_uri": "https://localhost:8080/",
          "height": 475
        },
        "outputId": "fef4ce80-a421-4a1c-d658-94e7551e8a98"
      },
      "source": [
        "import matplotlib.pyplot as plt\n",
        "plt.figure()\n",
        "plt.bar(primary_use_energy.primary_use, primary_use_energy.meter_reading)\n",
        "plt.title(\"Energy Use Per Type of Buiding Primary Use\")\n",
        "plt.xlabel(\"Primary Use Type\")\n",
        "plt.ylabel(\"Energy\")\n",
        "plt.xticks(rotation='vertical')\n",
        "#plt.yticks(0, 90, 10)"
      ],
      "execution_count": null,
      "outputs": [
        {
          "output_type": "execute_result",
          "data": {
            "text/plain": [
              "([0, 1, 2, 3, 4, 5, 6, 7, 8, 9, 10, 11, 12, 13, 14, 15],\n",
              " <a list of 16 Text major ticklabel objects>)"
            ]
          },
          "metadata": {
            "tags": []
          },
          "execution_count": 13
        },
        {
          "output_type": "display_data",
          "data": {
            "image/png": "[encoded data removed]",
            "text/plain": [
              "<Figure size 432x288 with 1 Axes>"
            ]
          },
          "metadata": {
            "tags": [],
            "needs_background": "light"
          }
        }
      ]
    },
    {
      "cell_type": "code",
      "metadata": {
        "id": "SObE1MZhyNbX",
        "colab_type": "code",
        "colab": {}
      },
      "source": [
        "# get the energy of each building primary use, colored by energy type\n",
        "energy_0 = df.loc[df['meter']==0,:]\n",
        "primary_use_energy_0 = energy_0.groupby(['primary_use'])['meter_reading'].sum().reset_index()\n",
        "energy_1 = df.loc[df['meter']==1,:]\n",
        "primary_use_energy_1 = energy_1.groupby(['primary_use'])['meter_reading'].sum().reset_index()\n",
        "energy_2 = df.loc[df['meter']==2,:]\n",
        "primary_use_energy_2 = energy_2.groupby(['primary_use'])['meter_reading'].sum().reset_index()\n",
        "energy_3 = df.loc[df['meter']==3,:]\n",
        "primary_use_energy_3 = energy_3.groupby(['primary_use'])['meter_reading'].sum().reset_index()\n",
        "#primary_use_energy_0.head()"
      ],
      "execution_count": null,
      "outputs": []
    },
    {
      "cell_type": "code",
      "metadata": {
        "id": "Seyml0N2zECy",
        "colab_type": "code",
        "colab": {}
      },
      "source": [
        "plt.figure(figsize=(20,10))\n",
        "plt.bar(primary_use_energy_0.primary_use, primary_use_energy_0.meter_reading, color='blue')\n",
        "plt.bar(primary_use_energy_1.primary_use, primary_use_energy_1.meter_reading, color='pink')\n",
        "#plt.bar(primary_use_energy_2.primary_use, primary_use_energy_2.meter_reading, color='green')\n",
        "plt.bar(primary_use_energy_3.primary_use, primary_use_energy_3.meter_reading, color='red')\n",
        "plt.title(\"Energy Use Per Type of Buiding Primary Use - without Energy Type 2: Steam\", fontsize=18)\n",
        "plt.xlabel(\"Primary Use Type\", fontsize=18)\n",
        "plt.ylabel(\"Energy\", fontsize=18)\n",
        "plt.xticks(rotation='vertical', fontsize=18)\n",
        "\n",
        "#colors = {'energy_0_electricity':'blue', 'energy_1_chilledwater':'pink','energy_2_steam':'green','energy_3_hotwater':'red'}         \n",
        "colors = {'energy_0_electricity':'blue', 'energy_1_chilledwater':'pink','energy_3_hotwater':'red'}      \n",
        "labels = list(colors.keys())\n",
        "handles = [plt.Rectangle((0,0),1,1, color=colors[label]) for label in labels]\n",
        "plt.legend(handles, labels)"
      ],
      "execution_count": null,
      "outputs": []
    },
    {
      "cell_type": "code",
      "metadata": {
        "id": "mzoyrUrOCAje",
        "colab_type": "code",
        "colab": {}
      },
      "source": [
        "# plot distribution of meter_reading\n",
        "df.hist(column='meter_reading', by='meter', bins=25, grid=False, figsize=(20,10), layout=(4,1), sharex=True, color='#86bf91', zorder=2, rwidth=9)"
      ],
      "execution_count": null,
      "outputs": []
    },
    {
      "cell_type": "code",
      "metadata": {
        "id": "JT-JcxjJDN-x",
        "colab_type": "code",
        "colab": {
          "base_uri": "https://localhost:8080/",
          "height": 317
        },
        "outputId": "8cf88905-6583-4e9f-8c12-e9abe9146756"
      },
      "source": [
        "df.describe()"
      ],
      "execution_count": null,
      "outputs": [
        {
          "output_type": "execute_result",
          "data": {
            "text/html": [
              "<div>\n",
              "<style scoped>\n",
              "    .dataframe tbody tr th:only-of-type {\n",
              "        vertical-align: middle;\n",
              "    }\n",
              "\n",
              "    .dataframe tbody tr th {\n",
              "        vertical-align: top;\n",
              "    }\n",
              "\n",
              "    .dataframe thead th {\n",
              "        text-align: right;\n",
              "    }\n",
              "</style>\n",
              "<table border=\"1\" class=\"dataframe\">\n",
              "  <thead>\n",
              "    <tr style=\"text-align: right;\">\n",
              "      <th></th>\n",
              "      <th>building_id</th>\n",
              "      <th>meter</th>\n",
              "      <th>meter_reading</th>\n",
              "      <th>site_id</th>\n",
              "      <th>square_feet</th>\n",
              "      <th>year_built</th>\n",
              "      <th>floor_count</th>\n",
              "      <th>air_temperature</th>\n",
              "      <th>cloud_coverage</th>\n",
              "      <th>dew_temperature</th>\n",
              "      <th>precip_depth_1_hr</th>\n",
              "      <th>sea_level_pressure</th>\n",
              "      <th>wind_direction</th>\n",
              "      <th>wind_speed</th>\n",
              "      <th>avg_air_temp_last_5hr</th>\n",
              "      <th>avg_air_temperature_per_day</th>\n",
              "      <th>max</th>\n",
              "      <th>min</th>\n",
              "      <th>diff_air_temperature_per_day</th>\n",
              "    </tr>\n",
              "  </thead>\n",
              "  <tbody>\n",
              "    <tr>\n",
              "      <th>count</th>\n",
              "      <td>2.021610e+07</td>\n",
              "      <td>2.021610e+07</td>\n",
              "      <td>2.021610e+07</td>\n",
              "      <td>2.021610e+07</td>\n",
              "      <td>2.021610e+07</td>\n",
              "      <td>8.088455e+06</td>\n",
              "      <td>3.506933e+06</td>\n",
              "      <td>2.011944e+07</td>\n",
              "      <td>1.139074e+07</td>\n",
              "      <td>2.011596e+07</td>\n",
              "      <td>1.646708e+07</td>\n",
              "      <td>1.898443e+07</td>\n",
              "      <td>1.876705e+07</td>\n",
              "      <td>2.007242e+07</td>\n",
              "      <td>2.012500e+07</td>\n",
              "      <td>2.012560e+07</td>\n",
              "      <td>2.012560e+07</td>\n",
              "      <td>2.012560e+07</td>\n",
              "      <td>2.012560e+07</td>\n",
              "    </tr>\n",
              "    <tr>\n",
              "      <th>mean</th>\n",
              "      <td>7.992780e+02</td>\n",
              "      <td>6.624412e-01</td>\n",
              "      <td>2.117121e+03</td>\n",
              "      <td>7.992232e+00</td>\n",
              "      <td>1.077830e+05</td>\n",
              "      <td>1.968277e+03</td>\n",
              "      <td>4.184848e+00</td>\n",
              "      <td>1.598795e+01</td>\n",
              "      <td>1.900423e+00</td>\n",
              "      <td>7.747429e+00</td>\n",
              "      <td>7.964155e-01</td>\n",
              "      <td>1.016085e+03</td>\n",
              "      <td>1.730151e+02</td>\n",
              "      <td>3.377525e+00</td>\n",
              "      <td>1.598664e+01</td>\n",
              "      <td>1.598690e+01</td>\n",
              "      <td>2.134792e+01</td>\n",
              "      <td>1.153138e+01</td>\n",
              "      <td>9.816541e+00</td>\n",
              "    </tr>\n",
              "    <tr>\n",
              "      <th>std</th>\n",
              "      <td>4.269133e+02</td>\n",
              "      <td>9.309921e-01</td>\n",
              "      <td>1.532356e+05</td>\n",
              "      <td>5.099060e+00</td>\n",
              "      <td>1.171424e+05</td>\n",
              "      <td>3.020815e+01</td>\n",
              "      <td>4.008277e+00</td>\n",
              "      <td>1.094729e+01</td>\n",
              "      <td>2.402909e+00</td>\n",
              "      <td>1.017867e+01</td>\n",
              "      <td>7.468997e+00</td>\n",
              "      <td>7.060539e+00</td>\n",
              "      <td>1.140574e+02</td>\n",
              "      <td>2.265694e+00</td>\n",
              "      <td>1.085915e+01</td>\n",
              "      <td>1.038236e+01</td>\n",
              "      <td>1.110495e+01</td>\n",
              "      <td>1.003535e+01</td>\n",
              "      <td>3.891666e+00</td>\n",
              "    </tr>\n",
              "    <tr>\n",
              "      <th>min</th>\n",
              "      <td>0.000000e+00</td>\n",
              "      <td>0.000000e+00</td>\n",
              "      <td>0.000000e+00</td>\n",
              "      <td>0.000000e+00</td>\n",
              "      <td>2.830000e+02</td>\n",
              "      <td>1.900000e+03</td>\n",
              "      <td>1.000000e+00</td>\n",
              "      <td>-2.890000e+01</td>\n",
              "      <td>0.000000e+00</td>\n",
              "      <td>-3.500000e+01</td>\n",
              "      <td>-1.000000e+00</td>\n",
              "      <td>9.682000e+02</td>\n",
              "      <td>0.000000e+00</td>\n",
              "      <td>0.000000e+00</td>\n",
              "      <td>-2.840000e+01</td>\n",
              "      <td>-2.492500e+01</td>\n",
              "      <td>-1.940000e+01</td>\n",
              "      <td>-2.890000e+01</td>\n",
              "      <td>0.000000e+00</td>\n",
              "    </tr>\n",
              "    <tr>\n",
              "      <th>25%</th>\n",
              "      <td>3.930000e+02</td>\n",
              "      <td>0.000000e+00</td>\n",
              "      <td>1.830000e+01</td>\n",
              "      <td>3.000000e+00</td>\n",
              "      <td>3.252700e+04</td>\n",
              "      <td>1.951000e+03</td>\n",
              "      <td>1.000000e+00</td>\n",
              "      <td>8.600000e+00</td>\n",
              "      <td>0.000000e+00</td>\n",
              "      <td>0.000000e+00</td>\n",
              "      <td>0.000000e+00</td>\n",
              "      <td>1.011600e+03</td>\n",
              "      <td>7.000000e+01</td>\n",
              "      <td>2.100000e+00</td>\n",
              "      <td>8.660000e+00</td>\n",
              "      <td>8.958333e+00</td>\n",
              "      <td>1.390000e+01</td>\n",
              "      <td>5.000000e+00</td>\n",
              "      <td>7.000000e+00</td>\n",
              "    </tr>\n",
              "    <tr>\n",
              "      <th>50%</th>\n",
              "      <td>8.950000e+02</td>\n",
              "      <td>0.000000e+00</td>\n",
              "      <td>7.877500e+01</td>\n",
              "      <td>9.000000e+00</td>\n",
              "      <td>7.270900e+04</td>\n",
              "      <td>1.969000e+03</td>\n",
              "      <td>3.000000e+00</td>\n",
              "      <td>1.670000e+01</td>\n",
              "      <td>0.000000e+00</td>\n",
              "      <td>8.900000e+00</td>\n",
              "      <td>0.000000e+00</td>\n",
              "      <td>1.016000e+03</td>\n",
              "      <td>1.800000e+02</td>\n",
              "      <td>3.100000e+00</td>\n",
              "      <td>1.690000e+01</td>\n",
              "      <td>1.710417e+01</td>\n",
              "      <td>2.280000e+01</td>\n",
              "      <td>1.220000e+01</td>\n",
              "      <td>9.500000e+00</td>\n",
              "    </tr>\n",
              "    <tr>\n",
              "      <th>75%</th>\n",
              "      <td>1.179000e+03</td>\n",
              "      <td>1.000000e+00</td>\n",
              "      <td>2.679840e+02</td>\n",
              "      <td>1.300000e+01</td>\n",
              "      <td>1.391130e+05</td>\n",
              "      <td>1.993000e+03</td>\n",
              "      <td>6.000000e+00</td>\n",
              "      <td>2.410000e+01</td>\n",
              "      <td>4.000000e+00</td>\n",
              "      <td>1.610000e+01</td>\n",
              "      <td>0.000000e+00</td>\n",
              "      <td>1.020500e+03</td>\n",
              "      <td>2.800000e+02</td>\n",
              "      <td>4.600000e+00</td>\n",
              "      <td>2.418000e+01</td>\n",
              "      <td>2.374583e+01</td>\n",
              "      <td>2.940000e+01</td>\n",
              "      <td>1.940000e+01</td>\n",
              "      <td>1.220000e+01</td>\n",
              "    </tr>\n",
              "    <tr>\n",
              "      <th>max</th>\n",
              "      <td>1.448000e+03</td>\n",
              "      <td>3.000000e+00</td>\n",
              "      <td>2.190470e+07</td>\n",
              "      <td>1.500000e+01</td>\n",
              "      <td>8.750000e+05</td>\n",
              "      <td>2.017000e+03</td>\n",
              "      <td>2.600000e+01</td>\n",
              "      <td>4.720000e+01</td>\n",
              "      <td>9.000000e+00</td>\n",
              "      <td>2.610000e+01</td>\n",
              "      <td>3.430000e+02</td>\n",
              "      <td>1.045500e+03</td>\n",
              "      <td>3.600000e+02</td>\n",
              "      <td>1.900000e+01</td>\n",
              "      <td>4.710000e+01</td>\n",
              "      <td>4.018750e+01</td>\n",
              "      <td>4.720000e+01</td>\n",
              "      <td>3.390000e+01</td>\n",
              "      <td>2.500000e+01</td>\n",
              "    </tr>\n",
              "  </tbody>\n",
              "</table>\n",
              "</div>"
            ],
            "text/plain": [
              "        building_id         meter  ...           min  diff_air_temperature_per_day\n",
              "count  2.021610e+07  2.021610e+07  ...  2.012560e+07                  2.012560e+07\n",
              "mean   7.992780e+02  6.624412e-01  ...  1.153138e+01                  9.816541e+00\n",
              "std    4.269133e+02  9.309921e-01  ...  1.003535e+01                  3.891666e+00\n",
              "min    0.000000e+00  0.000000e+00  ... -2.890000e+01                  0.000000e+00\n",
              "25%    3.930000e+02  0.000000e+00  ...  5.000000e+00                  7.000000e+00\n",
              "50%    8.950000e+02  0.000000e+00  ...  1.220000e+01                  9.500000e+00\n",
              "75%    1.179000e+03  1.000000e+00  ...  1.940000e+01                  1.220000e+01\n",
              "max    1.448000e+03  3.000000e+00  ...  3.390000e+01                  2.500000e+01\n",
              "\n",
              "[8 rows x 19 columns]"
            ]
          },
          "metadata": {
            "tags": []
          },
          "execution_count": 6
        }
      ]
    },
    {
      "cell_type": "code",
      "metadata": {
        "id": "LP1jtnhBE9VY",
        "colab_type": "code",
        "colab": {}
      },
      "source": [
        "df_outlier = df.loc[df['meter_reading']>100000, :]\n",
        "df_outlier"
      ],
      "execution_count": null,
      "outputs": []
    },
    {
      "cell_type": "code",
      "metadata": {
        "id": "eya_CJCF0gt7",
        "colab_type": "code",
        "colab": {
          "base_uri": "https://localhost:8080/",
          "height": 309
        },
        "outputId": "8bc730af-cb25-4eea-fab1-fd0e8cdff60e"
      },
      "source": [
        "# Feature Engineering \n",
        "# Add new column\n",
        "from datetime import datetime\n",
        "#df['timestamp'] = pd.to_datetime(df['timestamp'], format='%Y-%m-%d %H:%M:%S')\n",
        "#df['timestamp'] = datetime.strptime(df['timestamp'], '%Y-%m-%d %H:%M:%S')\n",
        "#df['timestamp'] = df['timestamp'].apply(lambda x: datetime.strptime(x, '%Y-%m-%d %H:%M:%S'))\n",
        "df['timestamp'] = df['timestamp'].astype('datetime64[ns]') \n",
        "df.head()\n",
        "\n"
      ],
      "execution_count": null,
      "outputs": [
        {
          "output_type": "execute_result",
          "data": {
            "text/html": [
              "<div>\n",
              "<style scoped>\n",
              "    .dataframe tbody tr th:only-of-type {\n",
              "        vertical-align: middle;\n",
              "    }\n",
              "\n",
              "    .dataframe tbody tr th {\n",
              "        vertical-align: top;\n",
              "    }\n",
              "\n",
              "    .dataframe thead th {\n",
              "        text-align: right;\n",
              "    }\n",
              "</style>\n",
              "<table border=\"1\" class=\"dataframe\">\n",
              "  <thead>\n",
              "    <tr style=\"text-align: right;\">\n",
              "      <th></th>\n",
              "      <th>building_id</th>\n",
              "      <th>meter</th>\n",
              "      <th>timestamp</th>\n",
              "      <th>meter_reading</th>\n",
              "      <th>site_id</th>\n",
              "      <th>primary_use</th>\n",
              "      <th>square_feet</th>\n",
              "      <th>year_built</th>\n",
              "      <th>floor_count</th>\n",
              "      <th>air_temperature</th>\n",
              "      <th>cloud_coverage</th>\n",
              "      <th>dew_temperature</th>\n",
              "      <th>precip_depth_1_hr</th>\n",
              "      <th>sea_level_pressure</th>\n",
              "      <th>wind_direction</th>\n",
              "      <th>wind_speed</th>\n",
              "    </tr>\n",
              "  </thead>\n",
              "  <tbody>\n",
              "    <tr>\n",
              "      <th>0</th>\n",
              "      <td>0</td>\n",
              "      <td>0</td>\n",
              "      <td>2016-01-01</td>\n",
              "      <td>0.0</td>\n",
              "      <td>0</td>\n",
              "      <td>Education</td>\n",
              "      <td>7432</td>\n",
              "      <td>2008.0</td>\n",
              "      <td>NaN</td>\n",
              "      <td>25.0</td>\n",
              "      <td>6.0</td>\n",
              "      <td>20.0</td>\n",
              "      <td>NaN</td>\n",
              "      <td>1019.5</td>\n",
              "      <td>0.0</td>\n",
              "      <td>0.0</td>\n",
              "    </tr>\n",
              "    <tr>\n",
              "      <th>1</th>\n",
              "      <td>1</td>\n",
              "      <td>0</td>\n",
              "      <td>2016-01-01</td>\n",
              "      <td>0.0</td>\n",
              "      <td>0</td>\n",
              "      <td>Education</td>\n",
              "      <td>2720</td>\n",
              "      <td>2004.0</td>\n",
              "      <td>NaN</td>\n",
              "      <td>25.0</td>\n",
              "      <td>6.0</td>\n",
              "      <td>20.0</td>\n",
              "      <td>NaN</td>\n",
              "      <td>1019.5</td>\n",
              "      <td>0.0</td>\n",
              "      <td>0.0</td>\n",
              "    </tr>\n",
              "    <tr>\n",
              "      <th>2</th>\n",
              "      <td>2</td>\n",
              "      <td>0</td>\n",
              "      <td>2016-01-01</td>\n",
              "      <td>0.0</td>\n",
              "      <td>0</td>\n",
              "      <td>Education</td>\n",
              "      <td>5376</td>\n",
              "      <td>1991.0</td>\n",
              "      <td>NaN</td>\n",
              "      <td>25.0</td>\n",
              "      <td>6.0</td>\n",
              "      <td>20.0</td>\n",
              "      <td>NaN</td>\n",
              "      <td>1019.5</td>\n",
              "      <td>0.0</td>\n",
              "      <td>0.0</td>\n",
              "    </tr>\n",
              "    <tr>\n",
              "      <th>3</th>\n",
              "      <td>3</td>\n",
              "      <td>0</td>\n",
              "      <td>2016-01-01</td>\n",
              "      <td>0.0</td>\n",
              "      <td>0</td>\n",
              "      <td>Education</td>\n",
              "      <td>23685</td>\n",
              "      <td>2002.0</td>\n",
              "      <td>NaN</td>\n",
              "      <td>25.0</td>\n",
              "      <td>6.0</td>\n",
              "      <td>20.0</td>\n",
              "      <td>NaN</td>\n",
              "      <td>1019.5</td>\n",
              "      <td>0.0</td>\n",
              "      <td>0.0</td>\n",
              "    </tr>\n",
              "    <tr>\n",
              "      <th>4</th>\n",
              "      <td>4</td>\n",
              "      <td>0</td>\n",
              "      <td>2016-01-01</td>\n",
              "      <td>0.0</td>\n",
              "      <td>0</td>\n",
              "      <td>Education</td>\n",
              "      <td>116607</td>\n",
              "      <td>1975.0</td>\n",
              "      <td>NaN</td>\n",
              "      <td>25.0</td>\n",
              "      <td>6.0</td>\n",
              "      <td>20.0</td>\n",
              "      <td>NaN</td>\n",
              "      <td>1019.5</td>\n",
              "      <td>0.0</td>\n",
              "      <td>0.0</td>\n",
              "    </tr>\n",
              "  </tbody>\n",
              "</table>\n",
              "</div>"
            ],
            "text/plain": [
              "   building_id  meter  ... wind_direction  wind_speed\n",
              "0            0      0  ...            0.0         0.0\n",
              "1            1      0  ...            0.0         0.0\n",
              "2            2      0  ...            0.0         0.0\n",
              "3            3      0  ...            0.0         0.0\n",
              "4            4      0  ...            0.0         0.0\n",
              "\n",
              "[5 rows x 16 columns]"
            ]
          },
          "metadata": {
            "tags": []
          },
          "execution_count": 9
        }
      ]
    },
    {
      "cell_type": "code",
      "metadata": {
        "id": "i6WCyLylSMNv",
        "colab_type": "code",
        "colab": {
          "base_uri": "https://localhost:8080/",
          "height": 317
        },
        "outputId": "e312b1ee-7529-4e6d-a9ee-565dd038e248"
      },
      "source": [
        "\n",
        "df['hour'] = df['timestamp'].dt.hour\n",
        "df['month'] = df['timestamp'].dt.month\n",
        "df['dayofweek'] = df['timestamp'].dt.weekday\n",
        "df.head()\n",
        "df.describe()\n"
      ],
      "execution_count": null,
      "outputs": [
        {
          "output_type": "execute_result",
          "data": {
            "text/html": [
              "<div>\n",
              "<style scoped>\n",
              "    .dataframe tbody tr th:only-of-type {\n",
              "        vertical-align: middle;\n",
              "    }\n",
              "\n",
              "    .dataframe tbody tr th {\n",
              "        vertical-align: top;\n",
              "    }\n",
              "\n",
              "    .dataframe thead th {\n",
              "        text-align: right;\n",
              "    }\n",
              "</style>\n",
              "<table border=\"1\" class=\"dataframe\">\n",
              "  <thead>\n",
              "    <tr style=\"text-align: right;\">\n",
              "      <th></th>\n",
              "      <th>building_id</th>\n",
              "      <th>meter</th>\n",
              "      <th>meter_reading</th>\n",
              "      <th>site_id</th>\n",
              "      <th>square_feet</th>\n",
              "      <th>year_built</th>\n",
              "      <th>floor_count</th>\n",
              "      <th>air_temperature</th>\n",
              "      <th>cloud_coverage</th>\n",
              "      <th>dew_temperature</th>\n",
              "      <th>precip_depth_1_hr</th>\n",
              "      <th>sea_level_pressure</th>\n",
              "      <th>wind_direction</th>\n",
              "      <th>wind_speed</th>\n",
              "      <th>hour</th>\n",
              "      <th>month</th>\n",
              "      <th>dayofweek</th>\n",
              "    </tr>\n",
              "  </thead>\n",
              "  <tbody>\n",
              "    <tr>\n",
              "      <th>count</th>\n",
              "      <td>2.021610e+07</td>\n",
              "      <td>2.021610e+07</td>\n",
              "      <td>2.021610e+07</td>\n",
              "      <td>2.021610e+07</td>\n",
              "      <td>2.021610e+07</td>\n",
              "      <td>8088455.0</td>\n",
              "      <td>3506933.0</td>\n",
              "      <td>2.011944e+07</td>\n",
              "      <td>11390735.0</td>\n",
              "      <td>2.011596e+07</td>\n",
              "      <td>16467077.0</td>\n",
              "      <td>18984431.0</td>\n",
              "      <td>18767052.0</td>\n",
              "      <td>2.007242e+07</td>\n",
              "      <td>2.021610e+07</td>\n",
              "      <td>2.021610e+07</td>\n",
              "      <td>2.021610e+07</td>\n",
              "    </tr>\n",
              "    <tr>\n",
              "      <th>mean</th>\n",
              "      <td>7.992780e+02</td>\n",
              "      <td>6.624412e-01</td>\n",
              "      <td>1.987455e+03</td>\n",
              "      <td>7.992232e+00</td>\n",
              "      <td>1.077830e+05</td>\n",
              "      <td>NaN</td>\n",
              "      <td>NaN</td>\n",
              "      <td>NaN</td>\n",
              "      <td>NaN</td>\n",
              "      <td>NaN</td>\n",
              "      <td>NaN</td>\n",
              "      <td>NaN</td>\n",
              "      <td>NaN</td>\n",
              "      <td>NaN</td>\n",
              "      <td>1.150232e+01</td>\n",
              "      <td>6.578453e+00</td>\n",
              "      <td>3.006958e+00</td>\n",
              "    </tr>\n",
              "    <tr>\n",
              "      <th>std</th>\n",
              "      <td>4.269133e+02</td>\n",
              "      <td>9.309921e-01</td>\n",
              "      <td>1.532159e+05</td>\n",
              "      <td>5.099060e+00</td>\n",
              "      <td>1.171424e+05</td>\n",
              "      <td>NaN</td>\n",
              "      <td>0.0</td>\n",
              "      <td>0.000000e+00</td>\n",
              "      <td>0.0</td>\n",
              "      <td>0.000000e+00</td>\n",
              "      <td>NaN</td>\n",
              "      <td>NaN</td>\n",
              "      <td>NaN</td>\n",
              "      <td>0.000000e+00</td>\n",
              "      <td>6.922017e+00</td>\n",
              "      <td>3.436662e+00</td>\n",
              "      <td>1.997191e+00</td>\n",
              "    </tr>\n",
              "    <tr>\n",
              "      <th>min</th>\n",
              "      <td>0.000000e+00</td>\n",
              "      <td>0.000000e+00</td>\n",
              "      <td>0.000000e+00</td>\n",
              "      <td>0.000000e+00</td>\n",
              "      <td>2.830000e+02</td>\n",
              "      <td>1900.0</td>\n",
              "      <td>1.0</td>\n",
              "      <td>-2.890625e+01</td>\n",
              "      <td>0.0</td>\n",
              "      <td>-3.500000e+01</td>\n",
              "      <td>-1.0</td>\n",
              "      <td>968.0</td>\n",
              "      <td>0.0</td>\n",
              "      <td>0.000000e+00</td>\n",
              "      <td>0.000000e+00</td>\n",
              "      <td>1.000000e+00</td>\n",
              "      <td>0.000000e+00</td>\n",
              "    </tr>\n",
              "    <tr>\n",
              "      <th>25%</th>\n",
              "      <td>3.930000e+02</td>\n",
              "      <td>0.000000e+00</td>\n",
              "      <td>1.797590e+01</td>\n",
              "      <td>3.000000e+00</td>\n",
              "      <td>3.252700e+04</td>\n",
              "      <td>1951.0</td>\n",
              "      <td>1.0</td>\n",
              "      <td>8.601562e+00</td>\n",
              "      <td>0.0</td>\n",
              "      <td>0.000000e+00</td>\n",
              "      <td>0.0</td>\n",
              "      <td>1011.5</td>\n",
              "      <td>70.0</td>\n",
              "      <td>2.099609e+00</td>\n",
              "      <td>6.000000e+00</td>\n",
              "      <td>4.000000e+00</td>\n",
              "      <td>1.000000e+00</td>\n",
              "    </tr>\n",
              "    <tr>\n",
              "      <th>50%</th>\n",
              "      <td>8.950000e+02</td>\n",
              "      <td>0.000000e+00</td>\n",
              "      <td>7.509000e+01</td>\n",
              "      <td>9.000000e+00</td>\n",
              "      <td>7.270900e+04</td>\n",
              "      <td>1969.0</td>\n",
              "      <td>3.0</td>\n",
              "      <td>1.670312e+01</td>\n",
              "      <td>0.0</td>\n",
              "      <td>8.898438e+00</td>\n",
              "      <td>0.0</td>\n",
              "      <td>1016.0</td>\n",
              "      <td>180.0</td>\n",
              "      <td>3.099609e+00</td>\n",
              "      <td>1.200000e+01</td>\n",
              "      <td>7.000000e+00</td>\n",
              "      <td>3.000000e+00</td>\n",
              "    </tr>\n",
              "    <tr>\n",
              "      <th>75%</th>\n",
              "      <td>1.179000e+03</td>\n",
              "      <td>1.000000e+00</td>\n",
              "      <td>2.526000e+02</td>\n",
              "      <td>1.300000e+01</td>\n",
              "      <td>1.391130e+05</td>\n",
              "      <td>1993.0</td>\n",
              "      <td>6.0</td>\n",
              "      <td>2.409375e+01</td>\n",
              "      <td>4.0</td>\n",
              "      <td>1.609375e+01</td>\n",
              "      <td>0.0</td>\n",
              "      <td>1020.5</td>\n",
              "      <td>280.0</td>\n",
              "      <td>4.601562e+00</td>\n",
              "      <td>1.800000e+01</td>\n",
              "      <td>1.000000e+01</td>\n",
              "      <td>5.000000e+00</td>\n",
              "    </tr>\n",
              "    <tr>\n",
              "      <th>max</th>\n",
              "      <td>1.448000e+03</td>\n",
              "      <td>3.000000e+00</td>\n",
              "      <td>2.190470e+07</td>\n",
              "      <td>1.500000e+01</td>\n",
              "      <td>8.750000e+05</td>\n",
              "      <td>2017.0</td>\n",
              "      <td>26.0</td>\n",
              "      <td>4.718750e+01</td>\n",
              "      <td>9.0</td>\n",
              "      <td>2.609375e+01</td>\n",
              "      <td>343.0</td>\n",
              "      <td>1046.0</td>\n",
              "      <td>360.0</td>\n",
              "      <td>1.900000e+01</td>\n",
              "      <td>2.300000e+01</td>\n",
              "      <td>1.200000e+01</td>\n",
              "      <td>6.000000e+00</td>\n",
              "    </tr>\n",
              "  </tbody>\n",
              "</table>\n",
              "</div>"
            ],
            "text/plain": [
              "        building_id         meter  ...         month     dayofweek\n",
              "count  2.021610e+07  2.021610e+07  ...  2.021610e+07  2.021610e+07\n",
              "mean   7.992780e+02  6.624412e-01  ...  6.578453e+00  3.006958e+00\n",
              "std    4.269133e+02  9.309921e-01  ...  3.436662e+00  1.997191e+00\n",
              "min    0.000000e+00  0.000000e+00  ...  1.000000e+00  0.000000e+00\n",
              "25%    3.930000e+02  0.000000e+00  ...  4.000000e+00  1.000000e+00\n",
              "50%    8.950000e+02  0.000000e+00  ...  7.000000e+00  3.000000e+00\n",
              "75%    1.179000e+03  1.000000e+00  ...  1.000000e+01  5.000000e+00\n",
              "max    1.448000e+03  3.000000e+00  ...  1.200000e+01  6.000000e+00\n",
              "\n",
              "[8 rows x 17 columns]"
            ]
          },
          "metadata": {
            "tags": []
          },
          "execution_count": 10
        }
      ]
    },
    {
      "cell_type": "code",
      "metadata": {
        "id": "COYzf087cE2R",
        "colab_type": "code",
        "colab": {
          "base_uri": "https://localhost:8080/",
          "height": 317
        },
        "outputId": "ecf93edf-6b63-4d55-b344-269f603bee12"
      },
      "source": [
        "####\n",
        "#temporary\n",
        "df = df.iloc[:200000]\n",
        "df.describe()"
      ],
      "execution_count": null,
      "outputs": [
        {
          "output_type": "execute_result",
          "data": {
            "text/html": [
              "<div>\n",
              "<style scoped>\n",
              "    .dataframe tbody tr th:only-of-type {\n",
              "        vertical-align: middle;\n",
              "    }\n",
              "\n",
              "    .dataframe tbody tr th {\n",
              "        vertical-align: top;\n",
              "    }\n",
              "\n",
              "    .dataframe thead th {\n",
              "        text-align: right;\n",
              "    }\n",
              "</style>\n",
              "<table border=\"1\" class=\"dataframe\">\n",
              "  <thead>\n",
              "    <tr style=\"text-align: right;\">\n",
              "      <th></th>\n",
              "      <th>building_id</th>\n",
              "      <th>meter</th>\n",
              "      <th>meter_reading</th>\n",
              "      <th>site_id</th>\n",
              "      <th>square_feet</th>\n",
              "      <th>year_built</th>\n",
              "      <th>floor_count</th>\n",
              "      <th>air_temperature</th>\n",
              "      <th>cloud_coverage</th>\n",
              "      <th>dew_temperature</th>\n",
              "      <th>precip_depth_1_hr</th>\n",
              "      <th>sea_level_pressure</th>\n",
              "      <th>wind_direction</th>\n",
              "      <th>wind_speed</th>\n",
              "      <th>hour</th>\n",
              "      <th>month</th>\n",
              "    </tr>\n",
              "  </thead>\n",
              "  <tbody>\n",
              "    <tr>\n",
              "      <th>count</th>\n",
              "      <td>200000.000000</td>\n",
              "      <td>200000.000000</td>\n",
              "      <td>2.000000e+05</td>\n",
              "      <td>200000.000000</td>\n",
              "      <td>200000.000000</td>\n",
              "      <td>80570.000000</td>\n",
              "      <td>35001.000000</td>\n",
              "      <td>190542.000000</td>\n",
              "      <td>100787.000000</td>\n",
              "      <td>190542.000000</td>\n",
              "      <td>157202.000000</td>\n",
              "      <td>169405.000000</td>\n",
              "      <td>184330.000000</td>\n",
              "      <td>190542.000000</td>\n",
              "      <td>200000.000000</td>\n",
              "      <td>200000.0</td>\n",
              "    </tr>\n",
              "    <tr>\n",
              "      <th>mean</th>\n",
              "      <td>813.480485</td>\n",
              "      <td>0.655965</td>\n",
              "      <td>9.919844e+02</td>\n",
              "      <td>8.161235</td>\n",
              "      <td>107859.600330</td>\n",
              "      <td>1967.205871</td>\n",
              "      <td>4.163624</td>\n",
              "      <td>5.036617</td>\n",
              "      <td>1.600365</td>\n",
              "      <td>-1.578287</td>\n",
              "      <td>0.112085</td>\n",
              "      <td>1018.751753</td>\n",
              "      <td>204.267075</td>\n",
              "      <td>3.487785</td>\n",
              "      <td>10.727115</td>\n",
              "      <td>1.0</td>\n",
              "    </tr>\n",
              "    <tr>\n",
              "      <th>std</th>\n",
              "      <td>426.397485</td>\n",
              "      <td>0.932984</td>\n",
              "      <td>3.722619e+04</td>\n",
              "      <td>5.102281</td>\n",
              "      <td>117319.303645</td>\n",
              "      <td>30.061119</td>\n",
              "      <td>4.003277</td>\n",
              "      <td>7.792753</td>\n",
              "      <td>2.384197</td>\n",
              "      <td>7.095880</td>\n",
              "      <td>1.137829</td>\n",
              "      <td>8.535189</td>\n",
              "      <td>118.296486</td>\n",
              "      <td>2.114563</td>\n",
              "      <td>6.764347</td>\n",
              "      <td>0.0</td>\n",
              "    </tr>\n",
              "    <tr>\n",
              "      <th>min</th>\n",
              "      <td>0.000000</td>\n",
              "      <td>0.000000</td>\n",
              "      <td>0.000000e+00</td>\n",
              "      <td>0.000000</td>\n",
              "      <td>283.000000</td>\n",
              "      <td>1900.000000</td>\n",
              "      <td>1.000000</td>\n",
              "      <td>-16.700000</td>\n",
              "      <td>0.000000</td>\n",
              "      <td>-20.000000</td>\n",
              "      <td>-1.000000</td>\n",
              "      <td>974.900000</td>\n",
              "      <td>0.000000</td>\n",
              "      <td>0.000000</td>\n",
              "      <td>0.000000</td>\n",
              "      <td>1.0</td>\n",
              "    </tr>\n",
              "    <tr>\n",
              "      <th>25%</th>\n",
              "      <td>414.000000</td>\n",
              "      <td>0.000000</td>\n",
              "      <td>1.039000e+01</td>\n",
              "      <td>3.000000</td>\n",
              "      <td>32206.000000</td>\n",
              "      <td>1951.000000</td>\n",
              "      <td>1.000000</td>\n",
              "      <td>-0.700000</td>\n",
              "      <td>0.000000</td>\n",
              "      <td>-6.100000</td>\n",
              "      <td>0.000000</td>\n",
              "      <td>1015.600000</td>\n",
              "      <td>100.000000</td>\n",
              "      <td>2.100000</td>\n",
              "      <td>5.000000</td>\n",
              "      <td>1.0</td>\n",
              "    </tr>\n",
              "    <tr>\n",
              "      <th>50%</th>\n",
              "      <td>907.000000</td>\n",
              "      <td>0.000000</td>\n",
              "      <td>5.472000e+01</td>\n",
              "      <td>9.000000</td>\n",
              "      <td>72709.000000</td>\n",
              "      <td>1968.000000</td>\n",
              "      <td>3.000000</td>\n",
              "      <td>5.600000</td>\n",
              "      <td>0.000000</td>\n",
              "      <td>-2.200000</td>\n",
              "      <td>0.000000</td>\n",
              "      <td>1018.600000</td>\n",
              "      <td>240.000000</td>\n",
              "      <td>3.600000</td>\n",
              "      <td>10.000000</td>\n",
              "      <td>1.0</td>\n",
              "    </tr>\n",
              "    <tr>\n",
              "      <th>75%</th>\n",
              "      <td>1196.000000</td>\n",
              "      <td>1.000000</td>\n",
              "      <td>1.970673e+02</td>\n",
              "      <td>13.000000</td>\n",
              "      <td>139683.000000</td>\n",
              "      <td>1991.000000</td>\n",
              "      <td>6.000000</td>\n",
              "      <td>9.400000</td>\n",
              "      <td>2.000000</td>\n",
              "      <td>1.100000</td>\n",
              "      <td>0.000000</td>\n",
              "      <td>1022.000000</td>\n",
              "      <td>300.000000</td>\n",
              "      <td>4.600000</td>\n",
              "      <td>16.000000</td>\n",
              "      <td>1.0</td>\n",
              "    </tr>\n",
              "    <tr>\n",
              "      <th>max</th>\n",
              "      <td>1448.000000</td>\n",
              "      <td>3.000000</td>\n",
              "      <td>3.577180e+06</td>\n",
              "      <td>15.000000</td>\n",
              "      <td>875000.000000</td>\n",
              "      <td>2017.000000</td>\n",
              "      <td>26.000000</td>\n",
              "      <td>28.300000</td>\n",
              "      <td>8.000000</td>\n",
              "      <td>21.100000</td>\n",
              "      <td>13.000000</td>\n",
              "      <td>1037.800000</td>\n",
              "      <td>360.000000</td>\n",
              "      <td>14.000000</td>\n",
              "      <td>23.000000</td>\n",
              "      <td>1.0</td>\n",
              "    </tr>\n",
              "  </tbody>\n",
              "</table>\n",
              "</div>"
            ],
            "text/plain": [
              "         building_id          meter  ...           hour     month\n",
              "count  200000.000000  200000.000000  ...  200000.000000  200000.0\n",
              "mean      813.480485       0.655965  ...      10.727115       1.0\n",
              "std       426.397485       0.932984  ...       6.764347       0.0\n",
              "min         0.000000       0.000000  ...       0.000000       1.0\n",
              "25%       414.000000       0.000000  ...       5.000000       1.0\n",
              "50%       907.000000       0.000000  ...      10.000000       1.0\n",
              "75%      1196.000000       1.000000  ...      16.000000       1.0\n",
              "max      1448.000000       3.000000  ...      23.000000       1.0\n",
              "\n",
              "[8 rows x 16 columns]"
            ]
          },
          "metadata": {
            "tags": []
          },
          "execution_count": 12
        }
      ]
    },
    {
      "cell_type": "code",
      "metadata": {
        "id": "80K9qcQJRktK",
        "colab_type": "code",
        "colab": {
          "base_uri": "https://localhost:8080/",
          "height": 360
        },
        "outputId": "ae2b2213-4aae-4db3-dde6-f9f23308e1e9"
      },
      "source": [
        "#it uses less RAM for me if I do this instead for the get dummies \n",
        "#df = pd.get_dummies(df,columns = ['hour','day','month','meter','primary_use'])\n",
        "\n",
        "hour_dummies = pd.get_dummies(df['hour'], prefix='hour_')\n",
        "month_dummies = pd.get_dummies(df['month'], prefix='month_')\n",
        "meter_dummies = pd.get_dummies(df['meter'], prefix='meter_')\n",
        "primary_use_dummies = pd.get_dummies(df['primary_use'])\n",
        "df = df.join(hour_dummies)\n",
        "df = df.join(month_dummies)\n",
        "df = df.join(meter_dummies)\n",
        "df = df.join(primary_use_dummies)\n",
        "df.head()"
      ],
      "execution_count": null,
      "outputs": [
        {
          "output_type": "execute_result",
          "data": {
            "text/html": [
              "<div>\n",
              "<style scoped>\n",
              "    .dataframe tbody tr th:only-of-type {\n",
              "        vertical-align: middle;\n",
              "    }\n",
              "\n",
              "    .dataframe tbody tr th {\n",
              "        vertical-align: top;\n",
              "    }\n",
              "\n",
              "    .dataframe thead th {\n",
              "        text-align: right;\n",
              "    }\n",
              "</style>\n",
              "<table border=\"1\" class=\"dataframe\">\n",
              "  <thead>\n",
              "    <tr style=\"text-align: right;\">\n",
              "      <th></th>\n",
              "      <th>building_id</th>\n",
              "      <th>meter</th>\n",
              "      <th>timestamp</th>\n",
              "      <th>meter_reading</th>\n",
              "      <th>site_id</th>\n",
              "      <th>primary_use</th>\n",
              "      <th>square_feet</th>\n",
              "      <th>year_built</th>\n",
              "      <th>floor_count</th>\n",
              "      <th>air_temperature</th>\n",
              "      <th>cloud_coverage</th>\n",
              "      <th>dew_temperature</th>\n",
              "      <th>precip_depth_1_hr</th>\n",
              "      <th>sea_level_pressure</th>\n",
              "      <th>wind_direction</th>\n",
              "      <th>wind_speed</th>\n",
              "      <th>hour</th>\n",
              "      <th>month</th>\n",
              "      <th>hour__0</th>\n",
              "      <th>hour__1</th>\n",
              "      <th>hour__2</th>\n",
              "      <th>hour__3</th>\n",
              "      <th>hour__4</th>\n",
              "      <th>hour__5</th>\n",
              "      <th>hour__6</th>\n",
              "      <th>hour__7</th>\n",
              "      <th>hour__8</th>\n",
              "      <th>hour__9</th>\n",
              "      <th>hour__10</th>\n",
              "      <th>hour__11</th>\n",
              "      <th>hour__12</th>\n",
              "      <th>hour__13</th>\n",
              "      <th>hour__14</th>\n",
              "      <th>hour__15</th>\n",
              "      <th>hour__16</th>\n",
              "      <th>hour__17</th>\n",
              "      <th>hour__18</th>\n",
              "      <th>hour__19</th>\n",
              "      <th>hour__20</th>\n",
              "      <th>hour__21</th>\n",
              "      <th>hour__22</th>\n",
              "      <th>hour__23</th>\n",
              "      <th>month__1</th>\n",
              "      <th>meter__0</th>\n",
              "      <th>meter__1</th>\n",
              "      <th>meter__2</th>\n",
              "      <th>meter__3</th>\n",
              "      <th>Education</th>\n",
              "      <th>Entertainment/public assembly</th>\n",
              "      <th>Food sales and service</th>\n",
              "      <th>Healthcare</th>\n",
              "      <th>Lodging/residential</th>\n",
              "      <th>Manufacturing/industrial</th>\n",
              "      <th>Office</th>\n",
              "      <th>Other</th>\n",
              "      <th>Parking</th>\n",
              "      <th>Public services</th>\n",
              "      <th>Religious worship</th>\n",
              "      <th>Retail</th>\n",
              "      <th>Services</th>\n",
              "      <th>Technology/science</th>\n",
              "      <th>Utility</th>\n",
              "      <th>Warehouse/storage</th>\n",
              "    </tr>\n",
              "  </thead>\n",
              "  <tbody>\n",
              "    <tr>\n",
              "      <th>0</th>\n",
              "      <td>0</td>\n",
              "      <td>0</td>\n",
              "      <td>2016-01-01</td>\n",
              "      <td>0.0</td>\n",
              "      <td>0</td>\n",
              "      <td>Education</td>\n",
              "      <td>7432</td>\n",
              "      <td>2008.0</td>\n",
              "      <td>NaN</td>\n",
              "      <td>25.0</td>\n",
              "      <td>6.0</td>\n",
              "      <td>20.0</td>\n",
              "      <td>NaN</td>\n",
              "      <td>1019.7</td>\n",
              "      <td>0.0</td>\n",
              "      <td>0.0</td>\n",
              "      <td>0</td>\n",
              "      <td>1</td>\n",
              "      <td>1</td>\n",
              "      <td>0</td>\n",
              "      <td>0</td>\n",
              "      <td>0</td>\n",
              "      <td>0</td>\n",
              "      <td>0</td>\n",
              "      <td>0</td>\n",
              "      <td>0</td>\n",
              "      <td>0</td>\n",
              "      <td>0</td>\n",
              "      <td>0</td>\n",
              "      <td>0</td>\n",
              "      <td>0</td>\n",
              "      <td>0</td>\n",
              "      <td>0</td>\n",
              "      <td>0</td>\n",
              "      <td>0</td>\n",
              "      <td>0</td>\n",
              "      <td>0</td>\n",
              "      <td>0</td>\n",
              "      <td>0</td>\n",
              "      <td>0</td>\n",
              "      <td>0</td>\n",
              "      <td>0</td>\n",
              "      <td>1</td>\n",
              "      <td>1</td>\n",
              "      <td>0</td>\n",
              "      <td>0</td>\n",
              "      <td>0</td>\n",
              "      <td>1</td>\n",
              "      <td>0</td>\n",
              "      <td>0</td>\n",
              "      <td>0</td>\n",
              "      <td>0</td>\n",
              "      <td>0</td>\n",
              "      <td>0</td>\n",
              "      <td>0</td>\n",
              "      <td>0</td>\n",
              "      <td>0</td>\n",
              "      <td>0</td>\n",
              "      <td>0</td>\n",
              "      <td>0</td>\n",
              "      <td>0</td>\n",
              "      <td>0</td>\n",
              "      <td>0</td>\n",
              "    </tr>\n",
              "    <tr>\n",
              "      <th>1</th>\n",
              "      <td>1</td>\n",
              "      <td>0</td>\n",
              "      <td>2016-01-01</td>\n",
              "      <td>0.0</td>\n",
              "      <td>0</td>\n",
              "      <td>Education</td>\n",
              "      <td>2720</td>\n",
              "      <td>2004.0</td>\n",
              "      <td>NaN</td>\n",
              "      <td>25.0</td>\n",
              "      <td>6.0</td>\n",
              "      <td>20.0</td>\n",
              "      <td>NaN</td>\n",
              "      <td>1019.7</td>\n",
              "      <td>0.0</td>\n",
              "      <td>0.0</td>\n",
              "      <td>0</td>\n",
              "      <td>1</td>\n",
              "      <td>1</td>\n",
              "      <td>0</td>\n",
              "      <td>0</td>\n",
              "      <td>0</td>\n",
              "      <td>0</td>\n",
              "      <td>0</td>\n",
              "      <td>0</td>\n",
              "      <td>0</td>\n",
              "      <td>0</td>\n",
              "      <td>0</td>\n",
              "      <td>0</td>\n",
              "      <td>0</td>\n",
              "      <td>0</td>\n",
              "      <td>0</td>\n",
              "      <td>0</td>\n",
              "      <td>0</td>\n",
              "      <td>0</td>\n",
              "      <td>0</td>\n",
              "      <td>0</td>\n",
              "      <td>0</td>\n",
              "      <td>0</td>\n",
              "      <td>0</td>\n",
              "      <td>0</td>\n",
              "      <td>0</td>\n",
              "      <td>1</td>\n",
              "      <td>1</td>\n",
              "      <td>0</td>\n",
              "      <td>0</td>\n",
              "      <td>0</td>\n",
              "      <td>1</td>\n",
              "      <td>0</td>\n",
              "      <td>0</td>\n",
              "      <td>0</td>\n",
              "      <td>0</td>\n",
              "      <td>0</td>\n",
              "      <td>0</td>\n",
              "      <td>0</td>\n",
              "      <td>0</td>\n",
              "      <td>0</td>\n",
              "      <td>0</td>\n",
              "      <td>0</td>\n",
              "      <td>0</td>\n",
              "      <td>0</td>\n",
              "      <td>0</td>\n",
              "      <td>0</td>\n",
              "    </tr>\n",
              "    <tr>\n",
              "      <th>2</th>\n",
              "      <td>2</td>\n",
              "      <td>0</td>\n",
              "      <td>2016-01-01</td>\n",
              "      <td>0.0</td>\n",
              "      <td>0</td>\n",
              "      <td>Education</td>\n",
              "      <td>5376</td>\n",
              "      <td>1991.0</td>\n",
              "      <td>NaN</td>\n",
              "      <td>25.0</td>\n",
              "      <td>6.0</td>\n",
              "      <td>20.0</td>\n",
              "      <td>NaN</td>\n",
              "      <td>1019.7</td>\n",
              "      <td>0.0</td>\n",
              "      <td>0.0</td>\n",
              "      <td>0</td>\n",
              "      <td>1</td>\n",
              "      <td>1</td>\n",
              "      <td>0</td>\n",
              "      <td>0</td>\n",
              "      <td>0</td>\n",
              "      <td>0</td>\n",
              "      <td>0</td>\n",
              "      <td>0</td>\n",
              "      <td>0</td>\n",
              "      <td>0</td>\n",
              "      <td>0</td>\n",
              "      <td>0</td>\n",
              "      <td>0</td>\n",
              "      <td>0</td>\n",
              "      <td>0</td>\n",
              "      <td>0</td>\n",
              "      <td>0</td>\n",
              "      <td>0</td>\n",
              "      <td>0</td>\n",
              "      <td>0</td>\n",
              "      <td>0</td>\n",
              "      <td>0</td>\n",
              "      <td>0</td>\n",
              "      <td>0</td>\n",
              "      <td>0</td>\n",
              "      <td>1</td>\n",
              "      <td>1</td>\n",
              "      <td>0</td>\n",
              "      <td>0</td>\n",
              "      <td>0</td>\n",
              "      <td>1</td>\n",
              "      <td>0</td>\n",
              "      <td>0</td>\n",
              "      <td>0</td>\n",
              "      <td>0</td>\n",
              "      <td>0</td>\n",
              "      <td>0</td>\n",
              "      <td>0</td>\n",
              "      <td>0</td>\n",
              "      <td>0</td>\n",
              "      <td>0</td>\n",
              "      <td>0</td>\n",
              "      <td>0</td>\n",
              "      <td>0</td>\n",
              "      <td>0</td>\n",
              "      <td>0</td>\n",
              "    </tr>\n",
              "    <tr>\n",
              "      <th>3</th>\n",
              "      <td>3</td>\n",
              "      <td>0</td>\n",
              "      <td>2016-01-01</td>\n",
              "      <td>0.0</td>\n",
              "      <td>0</td>\n",
              "      <td>Education</td>\n",
              "      <td>23685</td>\n",
              "      <td>2002.0</td>\n",
              "      <td>NaN</td>\n",
              "      <td>25.0</td>\n",
              "      <td>6.0</td>\n",
              "      <td>20.0</td>\n",
              "      <td>NaN</td>\n",
              "      <td>1019.7</td>\n",
              "      <td>0.0</td>\n",
              "      <td>0.0</td>\n",
              "      <td>0</td>\n",
              "      <td>1</td>\n",
              "      <td>1</td>\n",
              "      <td>0</td>\n",
              "      <td>0</td>\n",
              "      <td>0</td>\n",
              "      <td>0</td>\n",
              "      <td>0</td>\n",
              "      <td>0</td>\n",
              "      <td>0</td>\n",
              "      <td>0</td>\n",
              "      <td>0</td>\n",
              "      <td>0</td>\n",
              "      <td>0</td>\n",
              "      <td>0</td>\n",
              "      <td>0</td>\n",
              "      <td>0</td>\n",
              "      <td>0</td>\n",
              "      <td>0</td>\n",
              "      <td>0</td>\n",
              "      <td>0</td>\n",
              "      <td>0</td>\n",
              "      <td>0</td>\n",
              "      <td>0</td>\n",
              "      <td>0</td>\n",
              "      <td>0</td>\n",
              "      <td>1</td>\n",
              "      <td>1</td>\n",
              "      <td>0</td>\n",
              "      <td>0</td>\n",
              "      <td>0</td>\n",
              "      <td>1</td>\n",
              "      <td>0</td>\n",
              "      <td>0</td>\n",
              "      <td>0</td>\n",
              "      <td>0</td>\n",
              "      <td>0</td>\n",
              "      <td>0</td>\n",
              "      <td>0</td>\n",
              "      <td>0</td>\n",
              "      <td>0</td>\n",
              "      <td>0</td>\n",
              "      <td>0</td>\n",
              "      <td>0</td>\n",
              "      <td>0</td>\n",
              "      <td>0</td>\n",
              "      <td>0</td>\n",
              "    </tr>\n",
              "    <tr>\n",
              "      <th>4</th>\n",
              "      <td>4</td>\n",
              "      <td>0</td>\n",
              "      <td>2016-01-01</td>\n",
              "      <td>0.0</td>\n",
              "      <td>0</td>\n",
              "      <td>Education</td>\n",
              "      <td>116607</td>\n",
              "      <td>1975.0</td>\n",
              "      <td>NaN</td>\n",
              "      <td>25.0</td>\n",
              "      <td>6.0</td>\n",
              "      <td>20.0</td>\n",
              "      <td>NaN</td>\n",
              "      <td>1019.7</td>\n",
              "      <td>0.0</td>\n",
              "      <td>0.0</td>\n",
              "      <td>0</td>\n",
              "      <td>1</td>\n",
              "      <td>1</td>\n",
              "      <td>0</td>\n",
              "      <td>0</td>\n",
              "      <td>0</td>\n",
              "      <td>0</td>\n",
              "      <td>0</td>\n",
              "      <td>0</td>\n",
              "      <td>0</td>\n",
              "      <td>0</td>\n",
              "      <td>0</td>\n",
              "      <td>0</td>\n",
              "      <td>0</td>\n",
              "      <td>0</td>\n",
              "      <td>0</td>\n",
              "      <td>0</td>\n",
              "      <td>0</td>\n",
              "      <td>0</td>\n",
              "      <td>0</td>\n",
              "      <td>0</td>\n",
              "      <td>0</td>\n",
              "      <td>0</td>\n",
              "      <td>0</td>\n",
              "      <td>0</td>\n",
              "      <td>0</td>\n",
              "      <td>1</td>\n",
              "      <td>1</td>\n",
              "      <td>0</td>\n",
              "      <td>0</td>\n",
              "      <td>0</td>\n",
              "      <td>1</td>\n",
              "      <td>0</td>\n",
              "      <td>0</td>\n",
              "      <td>0</td>\n",
              "      <td>0</td>\n",
              "      <td>0</td>\n",
              "      <td>0</td>\n",
              "      <td>0</td>\n",
              "      <td>0</td>\n",
              "      <td>0</td>\n",
              "      <td>0</td>\n",
              "      <td>0</td>\n",
              "      <td>0</td>\n",
              "      <td>0</td>\n",
              "      <td>0</td>\n",
              "      <td>0</td>\n",
              "    </tr>\n",
              "  </tbody>\n",
              "</table>\n",
              "</div>"
            ],
            "text/plain": [
              "   building_id  meter  ... Utility  Warehouse/storage\n",
              "0            0      0  ...       0                  0\n",
              "1            1      0  ...       0                  0\n",
              "2            2      0  ...       0                  0\n",
              "3            3      0  ...       0                  0\n",
              "4            4      0  ...       0                  0\n",
              "\n",
              "[5 rows x 63 columns]"
            ]
          },
          "metadata": {
            "tags": []
          },
          "execution_count": 13
        }
      ]
    },
    {
      "cell_type": "code",
      "metadata": {
        "id": "a_RHQXmmddQS",
        "colab_type": "code",
        "colab": {
          "base_uri": "https://localhost:8080/",
          "height": 34
        },
        "outputId": "f438057e-22da-4c15-cce3-5d4de6ab1e88"
      },
      "source": [
        "print(df['year_built'].isnull().sum())"
      ],
      "execution_count": null,
      "outputs": [
        {
          "output_type": "stream",
          "text": [
            "119430\n"
          ],
          "name": "stdout"
        }
      ]
    },
    {
      "cell_type": "code",
      "metadata": {
        "id": "QZyYk9pEbJ-Y",
        "colab_type": "code",
        "colab": {
          "base_uri": "https://localhost:8080/",
          "height": 34
        },
        "outputId": "7a77ccb5-bf19-44ca-9835-7c2adb9f2e95"
      },
      "source": [
        "# Fill NULLs\n",
        "\n",
        "df['year_built'] = df.groupby('site_id').transform(lambda x: x.fillna(x.mean()))\n",
        "print(df['year_built'].isnull().sum())"
      ],
      "execution_count": null,
      "outputs": [
        {
          "output_type": "stream",
          "text": [
            "0\n"
          ],
          "name": "stdout"
        }
      ]
    },
    {
      "cell_type": "code",
      "metadata": {
        "id": "2nQyEhkgHhkj",
        "colab_type": "code",
        "colab": {
          "base_uri": "https://localhost:8080/",
          "height": 51
        },
        "outputId": "196d50d6-a112-40bc-b44f-27b2326a5188"
      },
      "source": [
        "# Standardize the meter_reading (Y) and X columns before modeling\n",
        "\n",
        "from sklearn import preprocessing\n",
        "# normalize the data attributes\n",
        "# normalized_X = preprocessing.normalize(X)\n",
        "# standardize the data attributes\n",
        "Y = df['meter_reading']\n",
        "standardized_Y = preprocessing.scale(Y)\n",
        "X = df['','']\n",
        "standardized_X = preprocessing.scale(X)"
      ],
      "execution_count": null,
      "outputs": [
        {
          "output_type": "execute_result",
          "data": {
            "text/plain": [
              "array([-0.01381612, -0.01381612, -0.01381612, ..., -0.01381612,\n",
              "       -0.01277475, -0.01379752])"
            ]
          },
          "metadata": {
            "tags": []
          },
          "execution_count": 13
        }
      ]
    },
    {
      "cell_type": "markdown",
      "metadata": {
        "id": "GnqLLQaGNyag",
        "colab_type": "text"
      },
      "source": [
        "Plot - Correlation"
      ]
    },
    {
      "cell_type": "code",
      "metadata": {
        "id": "i3b7zvLRNyG9",
        "colab_type": "code",
        "colab": {
          "base_uri": "https://localhost:8080/",
          "height": 1000
        },
        "outputId": "024fdf00-30a8-4d1b-b265-756b3869d6e4"
      },
      "source": [
        "#df = df[].drop()\n",
        "corrMatrix = df.corr()\n",
        "\n",
        "import seaborn as sn\n",
        "import matplotlib.pyplot as plt\n",
        "plt.figure(figsize=(20, 20))\n",
        "sn.heatmap(corrMatrix, annot=True)\n",
        "plt.show()"
      ],
      "execution_count": null,
      "outputs": [
        {
          "output_type": "display_data",
          "data": {
            "image/png": "[encoded data removed]",
            "text/plain": [
              "<Figure size 1440x1440 with 2 Axes>"
            ]
          },
          "metadata": {
            "tags": [],
            "needs_background": "light"
          }
        }
      ]
    },
    {
      "cell_type": "code",
      "metadata": {
        "id": "-E9MtCgRPAPs",
        "colab_type": "code",
        "colab": {
          "base_uri": "https://localhost:8080/",
          "height": 1000
        },
        "outputId": "4d10ece0-27ee-4662-d547-7579f9c00b0d"
      },
      "source": [
        "#temp_df = pd.get_dummies(df,columns = ['primary_use'])\n",
        "#temp_df_2 = temp_df.drop(columns=[\"site_id\", \"building_id\", \"year_built\", \"floor_count\"])\n",
        "#corrMatrix = temp_df_2.corr()\n",
        "temp_df_2 = df.drop(columns=[\"site_id\", \"building_id\", \"meter\", \"year_built\", \"hour\", \"month\", \"dayofweek\"])\n",
        "corrMatrix = temp_df_2.corr()\n",
        "import seaborn as sn\n",
        "import matplotlib.pyplot as plt\n",
        "plt.figure(figsize=(20, 20))\n",
        "sn.heatmap(corrMatrix, annot=True)\n",
        "plt.show()"
      ],
      "execution_count": null,
      "outputs": [
        {
          "output_type": "display_data",
          "data": {
            "image/png": "[encoded data removed]",
            "text/plain": [
              "<Figure size 1440x1440 with 2 Axes>"
            ]
          },
          "metadata": {
            "tags": [],
            "needs_background": "light"
          }
        }
      ]
    },
    {
      "cell_type": "markdown",
      "metadata": {
        "id": "s6FEwZlQVQGH",
        "colab_type": "text"
      },
      "source": [
        "plot- day of week"
      ]
    },
    {
      "cell_type": "code",
      "metadata": {
        "id": "YPJikxWBVReD",
        "colab_type": "code",
        "colab": {}
      },
      "source": [
        "#fig, ax = plt.subplots(figsize=(15,7))\n",
        "#df_plot.groupby(['dayofweek']).mean()['meter_reading'].plot(ax=ax)\n",
        "temp_df_2 = df.groupby(['dayofweek'])['meter_reading'].agg(['mean']).reset_index()"
      ],
      "execution_count": null,
      "outputs": []
    },
    {
      "cell_type": "code",
      "metadata": {
        "id": "k5p0kM4qWUJ_",
        "colab_type": "code",
        "colab": {
          "base_uri": "https://localhost:8080/",
          "height": 295
        },
        "outputId": "da85c030-e937-4a77-bb77-9ecb45eb6871"
      },
      "source": [
        "plt.figure()\n",
        "plt.plot(temp_df_2['dayofweek'], temp_df_2[\"mean\"] )\n",
        "plt.title(\"meter_reading curve\")\n",
        "plt.xlabel(\"day of week\")\n",
        "plt.ylabel(\"avg_meter_reading\")\n",
        "plt.show()"
      ],
      "execution_count": null,
      "outputs": [
        {
          "output_type": "display_data",
          "data": {
            "image/png": "[encoded data removed]",
            "text/plain": [
              "<Figure size 432x288 with 1 Axes>"
            ]
          },
          "metadata": {
            "tags": [],
            "needs_background": "light"
          }
        }
      ]
    }
  ]
}